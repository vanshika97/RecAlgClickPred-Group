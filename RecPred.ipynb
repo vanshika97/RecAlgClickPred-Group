{
 "cells": [
  {
   "cell_type": "code",
   "execution_count": 1,
   "metadata": {},
   "outputs": [
    {
     "data": {
      "text/plain": [
       "'Python: 3.7.4 (default, Aug  9 2019, 18:34:13) [MSC v.1915 64 bit (AMD64)]'"
      ]
     },
     "execution_count": 1,
     "metadata": {},
     "output_type": "execute_result"
    }
   ],
   "source": [
    "import sys\n",
    "# import sklearn\n",
    "import numpy as np\n",
    "import pandas as pd\n",
    "from time import time\n",
    "import seaborn as sns\n",
    "import matplotlib.pyplot as plt\n",
    "from sklearn import linear_model\n",
    "from copy import deepcopy\n",
    "pd.set_option('display.max_columns', 50)\n",
    "f\"Python: {sys.version}\""
   ]
  },
  {
   "cell_type": "markdown",
   "metadata": {},
   "source": [
    "### Setup"
   ]
  },
  {
   "cell_type": "code",
   "execution_count": 2,
   "metadata": {},
   "outputs": [],
   "source": [
    "trainData = pd.read_csv(\"tcdml1920-rec-click-pred--training.csv\", index_col='recommendation_set_id', low_memory=False)\n",
    "testData = pd.read_csv(\"tcdml1920-rec-click-pred--test.csv\", index_col='recommendation_set_id', low_memory=False)\n",
    "\n",
    "#drops 1647 rows with nothing\n",
    "testData.dropna(how=\"all\", inplace=True)"
   ]
  },
  {
   "cell_type": "code",
   "execution_count": 3,
   "metadata": {},
   "outputs": [
    {
     "data": {
      "text/plain": [
       "(285, 45)"
      ]
     },
     "execution_count": 3,
     "metadata": {},
     "output_type": "execute_result"
    }
   ],
   "source": [
    "# Row Duplication check TrainData\n",
    "duplicateRowsTrain = trainData[trainData.duplicated()]\n",
    "duplicateRowsTrain.shape"
   ]
  },
  {
   "cell_type": "code",
   "execution_count": 4,
   "metadata": {},
   "outputs": [
    {
     "data": {
      "text/plain": [
       "(0, 45)"
      ]
     },
     "execution_count": 4,
     "metadata": {},
     "output_type": "execute_result"
    }
   ],
   "source": [
    "# Row Duplication check TestData\n",
    "duplicateRowsTest = testData[testData.duplicated()]\n",
    "duplicateRowsTest.shape"
   ]
  },
  {
   "cell_type": "code",
   "execution_count": 5,
   "metadata": {},
   "outputs": [
    {
     "data": {
      "text/plain": [
       "(385402, 45)"
      ]
     },
     "execution_count": 5,
     "metadata": {},
     "output_type": "execute_result"
    }
   ],
   "source": [
    "trainData = trainData.drop_duplicates()\n",
    "trainData.shape"
   ]
  },
  {
   "cell_type": "code",
   "execution_count": 6,
   "metadata": {},
   "outputs": [],
   "source": [
    "trainData.replace([\"\\\\N\", \"nA\", \"Not provided\", \"unknown\", \"*unknown*\"], np.nan, inplace=True)\n",
    "testData.replace([\"\\\\N\", \"nA\", \"Not provided\",  \"unknown\", \"*unknown*\"], np.nan, inplace=True)"
   ]
  },
  {
   "cell_type": "code",
   "execution_count": 7,
   "metadata": {},
   "outputs": [],
   "source": [
    "JabRef_trainData = deepcopy(trainData[trainData.organization_id == 1])\n",
    "JabRef_testData  = deepcopy(testData[testData.organization_id == 1])\n",
    "MyVolts_trainData = deepcopy(trainData[trainData.organization_id == 4])\n",
    "MyVolts_testData  = deepcopy(testData[testData.organization_id == 4])\n",
    "Blog_trainData = deepcopy(trainData[trainData.organization_id == 8])\n",
    "Blog_testData  = deepcopy(testData[testData.organization_id == 8])"
   ]
  },
  {
   "cell_type": "code",
   "execution_count": 8,
   "metadata": {},
   "outputs": [
    {
     "data": {
      "text/plain": [
       "Index(['user_id', 'session_id', 'query_identifier', 'query_word_count',\n",
       "       'query_char_count', 'query_detected_language', 'query_document_id',\n",
       "       'document_language_provided', 'year_published', 'number_of_authors',\n",
       "       'abstract_word_count', 'abstract_char_count',\n",
       "       'abstract_detected_language', 'first_author_id',\n",
       "       'num_pubs_by_first_author', 'organization_id', 'application_type',\n",
       "       'item_type', 'request_received', 'hour_request_received',\n",
       "       'response_delivered', 'rec_processing_time', 'app_version', 'app_lang',\n",
       "       'user_os', 'user_os_version', 'user_java_version', 'user_timezone',\n",
       "       'country_by_ip', 'timezone_by_ip', 'local_time_of_request',\n",
       "       'local_hour_of_request', 'number_of_recs_in_set',\n",
       "       'recommendation_algorithm_id_used', 'algorithm_class', 'cbf_parser',\n",
       "       'search_title', 'search_keywords', 'search_abstract',\n",
       "       'time_recs_recieved', 'time_recs_displayed', 'time_recs_viewed',\n",
       "       'clicks', 'ctr', 'set_clicked'],\n",
       "      dtype='object')"
      ]
     },
     "execution_count": 8,
     "metadata": {},
     "output_type": "execute_result"
    }
   ],
   "source": [
    "trainData.columns"
   ]
  },
  {
   "cell_type": "code",
   "execution_count": 55,
   "metadata": {},
   "outputs": [
    {
     "data": {
      "text/plain": [
       "(11, 45)"
      ]
     },
     "execution_count": 55,
     "metadata": {},
     "output_type": "execute_result"
    }
   ],
   "source": [
    "# dataset = [ JabRef_trainData, MyVolts_trainData, Blog_trainData ]\n",
    "# dataset = [ trainData ]\n",
    "d = trainData\n",
    "d[((d[\"response_delivered\"]- d[\"request_received\"]).dt.total_seconds() > 240\n",
    "  ) & \n",
    "  (d[\"set_clicked\"] == 0) &\n",
    "  ((d[\"response_delivered\"]- d[\"request_received\"]).dt.total_seconds() != np.datetime64('NaT'))].shape\n",
    "# print(d[((d[\"response_delivered\"]- d[\"request_received\"]).dt.total_seconds() > 1242400) & d[\"set_clicked\"] == 1].shape)"
   ]
  },
  {
   "cell_type": "code",
   "execution_count": 8,
   "metadata": {},
   "outputs": [],
   "source": [
    "dataset = [ JabRef_trainData, JabRef_testData, MyVolts_trainData, MyVolts_testData, Blog_trainData, Blog_testData ]\n",
    "\n",
    "for d in dataset:\n",
    "    print(d.number)"
   ]
  },
  {
   "cell_type": "code",
   "execution_count": 37,
   "metadata": {},
   "outputs": [
    {
     "name": "stdout",
     "output_type": "stream",
     "text": [
      "(array([0, 1], dtype=int64),)\n",
      "(array([ 0,  1, 20, 21, 25, 26, 32, 39, 40, 41, 42, 43, 44], dtype=int64),)\n",
      "(array([ 7,  8,  9, 13, 14, 22, 24, 25, 26, 27], dtype=int64),)\n",
      "(array([ 7,  8,  9, 13, 14, 20, 21, 22, 24, 25, 26, 27, 32, 39, 40, 41, 42,\n",
      "       43, 44], dtype=int64),)\n",
      "(array([ 0,  1,  7,  8,  9, 13, 14, 22, 23, 24, 25, 26, 27], dtype=int64),)\n",
      "(array([ 0,  1,  7,  8,  9, 13, 14, 20, 21, 22, 23, 24, 25, 26, 27, 32, 39,\n",
      "       40, 41, 42, 43, 44], dtype=int64),)\n"
     ]
    }
   ],
   "source": [
    "dataset = [ JabRef_trainData, JabRef_testData, MyVolts_trainData, MyVolts_testData, Blog_trainData, Blog_testData ]\n",
    "for d in dataset:\n",
    "    print(np.where(d.isna().all() == True))\n",
    "#     print(d.columns[d.isna().all() == True])\n",
    "#     d = d.dropna(axis = 1, how = 'all')\n",
    "#     print(d.shape)"
   ]
  },
  {
   "cell_type": "code",
   "execution_count": 26,
   "metadata": {},
   "outputs": [
    {
     "data": {
      "text/plain": [
       "Index(['user_id', 'session_id'], dtype='object')"
      ]
     },
     "execution_count": 26,
     "metadata": {},
     "output_type": "execute_result"
    }
   ],
   "source": [
    "JabRef_trainData.columns[(JabRef_trainData.isna().all() == True)]"
   ]
  },
  {
   "cell_type": "code",
   "execution_count": 58,
   "metadata": {},
   "outputs": [
    {
     "data": {
      "text/plain": [
       "2      49792\n",
       "1      31623\n",
       "21     28068\n",
       "27     24959\n",
       "11     22911\n",
       "13     17260\n",
       "14     16625\n",
       "7      15200\n",
       "12     14885\n",
       "8      14027\n",
       "NaN    10657\n",
       "10      3869\n",
       "5       2752\n",
       "3       2729\n",
       "6       2585\n",
       "4       2553\n",
       "9       2303\n",
       "15      2295\n",
       "22      1602\n",
       "23      1551\n",
       "24      1443\n",
       "19       324\n",
       "32        15\n",
       "31         9\n",
       "Name: recommendation_algorithm_id_used, dtype: int64"
      ]
     },
     "execution_count": 58,
     "metadata": {},
     "output_type": "execute_result"
    }
   ],
   "source": [
    "JabRef_trainData[\"recommendation_algorithm_id_used\"].value_counts(dropna=False)"
   ]
  },
  {
   "cell_type": "code",
   "execution_count": 22,
   "metadata": {},
   "outputs": [
    {
     "ename": "NameError",
     "evalue": "name 'Blog_trainData' is not defined",
     "output_type": "error",
     "traceback": [
      "\u001b[1;31m---------------------------------------------------------------------------\u001b[0m",
      "\u001b[1;31mNameError\u001b[0m                                 Traceback (most recent call last)",
      "\u001b[1;32m<ipython-input-22-c479b9336afd>\u001b[0m in \u001b[0;36m<module>\u001b[1;34m\u001b[0m\n\u001b[1;32m----> 1\u001b[1;33m \u001b[0mBlog_trainData\u001b[0m\u001b[1;33m[\u001b[0m\u001b[1;34m\"number_of_authors\"\u001b[0m\u001b[1;33m]\u001b[0m\u001b[1;33m.\u001b[0m\u001b[0mvalue_counts\u001b[0m\u001b[1;33m(\u001b[0m\u001b[0mdropna\u001b[0m\u001b[1;33m=\u001b[0m\u001b[1;32mFalse\u001b[0m\u001b[1;33m)\u001b[0m\u001b[1;33m\u001b[0m\u001b[1;33m\u001b[0m\u001b[0m\n\u001b[0m",
      "\u001b[1;31mNameError\u001b[0m: name 'Blog_trainData' is not defined"
     ]
    }
   ],
   "source": [
    "Blog_trainData[\"number_of_authors\"].value_counts(dropna=False)"
   ]
  },
  {
   "cell_type": "code",
   "execution_count": 16,
   "metadata": {},
   "outputs": [
    {
     "data": {
      "text/plain": [
       "Index(['user_id', 'session_id', 'query_identifier', 'query_word_count',\n",
       "       'query_char_count', 'query_detected_language', 'query_document_id',\n",
       "       'document_language_provided', 'year_published', 'number_of_authors',\n",
       "       'abstract_word_count', 'abstract_char_count',\n",
       "       'abstract_detected_language', 'first_author_id',\n",
       "       'num_pubs_by_first_author', 'organization_id', 'application_type',\n",
       "       'item_type', 'request_received', 'hour_request_received',\n",
       "       'response_delivered', 'rec_processing_time', 'app_version', 'app_lang',\n",
       "       'user_os', 'user_os_version', 'user_java_version', 'user_timezone',\n",
       "       'country_by_ip', 'timezone_by_ip', 'local_time_of_request',\n",
       "       'local_hour_of_request', 'number_of_recs_in_set',\n",
       "       'recommendation_algorithm_id_used', 'algorithm_class', 'cbf_parser',\n",
       "       'search_title', 'search_keywords', 'search_abstract',\n",
       "       'time_recs_recieved', 'time_recs_displayed', 'time_recs_viewed',\n",
       "       'clicks', 'ctr', 'set_clicked'],\n",
       "      dtype='object')"
      ]
     },
     "execution_count": 16,
     "metadata": {},
     "output_type": "execute_result"
    }
   ],
   "source": [
    "MyVolts_trainData.columns"
   ]
  },
  {
   "cell_type": "code",
   "execution_count": 12,
   "metadata": {},
   "outputs": [
    {
     "data": {
      "text/plain": [
       "\\N                                  48326\n",
       "3ce5de6574b74d9e6f6657547091755b     4034\n",
       "46015d40bb2433595af1410c746e3471     3448\n",
       "3902677038066845d9c1efc4073ccbad     3153\n",
       "a0bcf1241d17237ac6d3dea2fea82cc0     2179\n",
       "                                    ...  \n",
       "22c3f07657f468dd9b6bbb47d3466289        3\n",
       "eec250c1ce93e1977f730c44dd8e5e4d        2\n",
       "475c938cc71dfebb99d8f9aa7b077a78        2\n",
       "932dcf4e887ebf44043fe1d53b0e697c        2\n",
       "246f4b9b0b9f66418324b592f591a927        1\n",
       "Name: user_id, Length: 200, dtype: int64"
      ]
     },
     "execution_count": 12,
     "metadata": {},
     "output_type": "execute_result"
    }
   ],
   "source": [
    "MyVolts_trainData[\"user_id\"].value_counts(dropna=False)"
   ]
  },
  {
   "cell_type": "code",
   "execution_count": 15,
   "metadata": {},
   "outputs": [
    {
     "ename": "SyntaxError",
     "evalue": "invalid syntax (<ipython-input-15-788f434987e0>, line 1)",
     "output_type": "error",
     "traceback": [
      "\u001b[1;36m  File \u001b[1;32m\"<ipython-input-15-788f434987e0>\"\u001b[1;36m, line \u001b[1;32m1\u001b[0m\n\u001b[1;33m    JabRef_MetaData col =\u001b[0m\n\u001b[1;37m                      ^\u001b[0m\n\u001b[1;31mSyntaxError\u001b[0m\u001b[1;31m:\u001b[0m invalid syntax\n"
     ]
    }
   ],
   "source": [
    "JabRef_MetaData col = [\n",
    "    \"user_id\",\n",
    "    \"session_id\",\n",
    "    \"query_char_count\",\n",
    "    \n",
    "]\n",
    "\n",
    "\n",
    "MyVolts_MetaData col = [\n",
    "    \"user_id\",\n",
    "    \"session_id\",\n",
    "    \"query_char_count\",\n",
    "    \"query_document_id\",\n",
    "    \n",
    "]\n",
    "\n",
    "Blog_MetaData col = [\n",
    "    \"user_id\",\n",
    "    \"session_id\",\n",
    "    \"query_document_id\",\n",
    "    \n",
    "    \n",
    "]"
   ]
  },
  {
   "cell_type": "code",
   "execution_count": 48,
   "metadata": {},
   "outputs": [
    {
     "data": {
      "image/png": "[encoded data removed]",
      "text/plain": [
       "<Figure size 603.25x540 with 12 Axes>"
      ]
     },
     "metadata": {
      "needs_background": "light"
     },
     "output_type": "display_data"
    }
   ],
   "source": [
    "# useful_vars = [f'x{i}' for i in range(30)]\n",
    "plot = sns.pairplot(data=trainData.sample(10000), vars=['clicks', 'ctr', 'number_of_recs_in_set'], hue ='set_clicked')\n",
    "# plot.savefig('img/sns_plot.png')"
   ]
  },
  {
   "cell_type": "code",
   "execution_count": 18,
   "metadata": {},
   "outputs": [
    {
     "data": {
      "text/plain": [
       "0    378639\n",
       "1      6763\n",
       "Name: set_clicked, dtype: int64"
      ]
     },
     "execution_count": 18,
     "metadata": {},
     "output_type": "execute_result"
    }
   ],
   "source": [
    "trainData[\"set_clicked\"].value_counts()"
   ]
  },
  {
   "cell_type": "code",
   "execution_count": 19,
   "metadata": {},
   "outputs": [
    {
     "data": {
      "text/plain": [
       "0.0000    378639\n",
       "0.1429      3858\n",
       "0.3333       977\n",
       "0.2857       944\n",
       "0.4286       328\n",
       "0.2000       144\n",
       "0.5714       132\n",
       "1.0000        77\n",
       "0.6667        70\n",
       "0.7143        48\n",
       "0.4000        37\n",
       "0.8571        33\n",
       "0.1667        30\n",
       "0.5000        28\n",
       "0.2500        12\n",
       "0.6000         8\n",
       "1.2000         6\n",
       "1.2857         5\n",
       "1.1429         4\n",
       "1.4286         3\n",
       "0.7500         3\n",
       "1.3333         3\n",
       "1.5714         3\n",
       "2.0000         3\n",
       "0.8000         2\n",
       "2.7143         1\n",
       "2.5000         1\n",
       "2.5714         1\n",
       "1.6667         1\n",
       "1.6000         1\n",
       "Name: ctr, dtype: int64"
      ]
     },
     "execution_count": 19,
     "metadata": {},
     "output_type": "execute_result"
    }
   ],
   "source": [
    "trainData[\"ctr\"].value_counts()"
   ]
  },
  {
   "cell_type": "code",
   "execution_count": 29,
   "metadata": {},
   "outputs": [
    {
     "data": {
      "text/html": [
       "<div>\n",
       "<style scoped>\n",
       "    .dataframe tbody tr th:only-of-type {\n",
       "        vertical-align: middle;\n",
       "    }\n",
       "\n",
       "    .dataframe tbody tr th {\n",
       "        vertical-align: top;\n",
       "    }\n",
       "\n",
       "    .dataframe thead th {\n",
       "        text-align: right;\n",
       "    }\n",
       "</style>\n",
       "<table border=\"1\" class=\"dataframe\">\n",
       "  <thead>\n",
       "    <tr style=\"text-align: right;\">\n",
       "      <th></th>\n",
       "      <th>user_id</th>\n",
       "      <th>session_id</th>\n",
       "      <th>query_identifier</th>\n",
       "      <th>query_word_count</th>\n",
       "      <th>query_char_count</th>\n",
       "      <th>query_detected_language</th>\n",
       "      <th>query_document_id</th>\n",
       "      <th>document_language_provided</th>\n",
       "      <th>year_published</th>\n",
       "      <th>number_of_authors</th>\n",
       "      <th>abstract_word_count</th>\n",
       "      <th>abstract_char_count</th>\n",
       "      <th>abstract_detected_language</th>\n",
       "      <th>first_author_id</th>\n",
       "      <th>num_pubs_by_first_author</th>\n",
       "      <th>organization_id</th>\n",
       "      <th>application_type</th>\n",
       "      <th>item_type</th>\n",
       "      <th>request_received</th>\n",
       "      <th>hour_request_received</th>\n",
       "      <th>response_delivered</th>\n",
       "      <th>rec_processing_time</th>\n",
       "      <th>app_version</th>\n",
       "      <th>app_lang</th>\n",
       "      <th>user_os</th>\n",
       "      <th>user_os_version</th>\n",
       "      <th>user_java_version</th>\n",
       "      <th>user_timezone</th>\n",
       "      <th>country_by_ip</th>\n",
       "      <th>timezone_by_ip</th>\n",
       "      <th>local_time_of_request</th>\n",
       "      <th>local_hour_of_request</th>\n",
       "      <th>number_of_recs_in_set</th>\n",
       "      <th>recommendation_algorithm_id_used</th>\n",
       "      <th>algorithm_class</th>\n",
       "      <th>cbf_parser</th>\n",
       "      <th>search_title</th>\n",
       "      <th>search_keywords</th>\n",
       "      <th>search_abstract</th>\n",
       "      <th>time_recs_recieved</th>\n",
       "      <th>time_recs_displayed</th>\n",
       "      <th>time_recs_viewed</th>\n",
       "      <th>clicks</th>\n",
       "      <th>ctr</th>\n",
       "      <th>set_clicked</th>\n",
       "    </tr>\n",
       "    <tr>\n",
       "      <th>recommendation_set_id</th>\n",
       "      <th></th>\n",
       "      <th></th>\n",
       "      <th></th>\n",
       "      <th></th>\n",
       "      <th></th>\n",
       "      <th></th>\n",
       "      <th></th>\n",
       "      <th></th>\n",
       "      <th></th>\n",
       "      <th></th>\n",
       "      <th></th>\n",
       "      <th></th>\n",
       "      <th></th>\n",
       "      <th></th>\n",
       "      <th></th>\n",
       "      <th></th>\n",
       "      <th></th>\n",
       "      <th></th>\n",
       "      <th></th>\n",
       "      <th></th>\n",
       "      <th></th>\n",
       "      <th></th>\n",
       "      <th></th>\n",
       "      <th></th>\n",
       "      <th></th>\n",
       "      <th></th>\n",
       "      <th></th>\n",
       "      <th></th>\n",
       "      <th></th>\n",
       "      <th></th>\n",
       "      <th></th>\n",
       "      <th></th>\n",
       "      <th></th>\n",
       "      <th></th>\n",
       "      <th></th>\n",
       "      <th></th>\n",
       "      <th></th>\n",
       "      <th></th>\n",
       "      <th></th>\n",
       "      <th></th>\n",
       "      <th></th>\n",
       "      <th></th>\n",
       "      <th></th>\n",
       "      <th></th>\n",
       "      <th></th>\n",
       "    </tr>\n",
       "  </thead>\n",
       "  <tbody>\n",
       "    <tr>\n",
       "      <td>82555</td>\n",
       "      <td>NaN</td>\n",
       "      <td>NaN</td>\n",
       "      <td>Withheld for privacy</td>\n",
       "      <td>10</td>\n",
       "      <td>62</td>\n",
       "      <td>en</td>\n",
       "      <td>NaN</td>\n",
       "      <td>NaN</td>\n",
       "      <td>NaN</td>\n",
       "      <td>NaN</td>\n",
       "      <td>NaN</td>\n",
       "      <td>NaN</td>\n",
       "      <td>NaN</td>\n",
       "      <td>NaN</td>\n",
       "      <td>NaN</td>\n",
       "      <td>1</td>\n",
       "      <td>digital_library</td>\n",
       "      <td>academic_publication</td>\n",
       "      <td>14/01/2019 11:35</td>\n",
       "      <td>11</td>\n",
       "      <td>14/01/2019 11:35</td>\n",
       "      <td>8.529710</td>\n",
       "      <td>4.3.1</td>\n",
       "      <td>en</td>\n",
       "      <td>NaN</td>\n",
       "      <td>NaN</td>\n",
       "      <td>NaN</td>\n",
       "      <td>NaN</td>\n",
       "      <td>FI</td>\n",
       "      <td>200</td>\n",
       "      <td>14/01/2019 12:35</td>\n",
       "      <td>12</td>\n",
       "      <td>7</td>\n",
       "      <td>NaN</td>\n",
       "      <td>NaN</td>\n",
       "      <td>NaN</td>\n",
       "      <td>no</td>\n",
       "      <td>no</td>\n",
       "      <td>no</td>\n",
       "      <td>NaN</td>\n",
       "      <td>NaN</td>\n",
       "      <td>NaN</td>\n",
       "      <td>0</td>\n",
       "      <td>0.0</td>\n",
       "      <td>0</td>\n",
       "    </tr>\n",
       "    <tr>\n",
       "      <td>271003</td>\n",
       "      <td>NaN</td>\n",
       "      <td>NaN</td>\n",
       "      <td>Asus Laptop X51L Compatible Power Supply Plug ...</td>\n",
       "      <td>9</td>\n",
       "      <td>53</td>\n",
       "      <td>en</td>\n",
       "      <td>NaN</td>\n",
       "      <td>NaN</td>\n",
       "      <td>NaN</td>\n",
       "      <td>NaN</td>\n",
       "      <td>NaN</td>\n",
       "      <td>NaN</td>\n",
       "      <td>NaN</td>\n",
       "      <td>NaN</td>\n",
       "      <td>NaN</td>\n",
       "      <td>4</td>\n",
       "      <td>e-commerce</td>\n",
       "      <td>NaN</td>\n",
       "      <td>02/07/2019 08:25</td>\n",
       "      <td>8</td>\n",
       "      <td>02/07/2019 08:25</td>\n",
       "      <td>0.048823</td>\n",
       "      <td>NaN</td>\n",
       "      <td>en</td>\n",
       "      <td>NaN</td>\n",
       "      <td>NaN</td>\n",
       "      <td>NaN</td>\n",
       "      <td>NaN</td>\n",
       "      <td>DE</td>\n",
       "      <td>NaN</td>\n",
       "      <td>NaN</td>\n",
       "      <td>NaN</td>\n",
       "      <td>3</td>\n",
       "      <td>12</td>\n",
       "      <td>content_based_filtering</td>\n",
       "      <td>edismax_QP</td>\n",
       "      <td>yes</td>\n",
       "      <td>yes</td>\n",
       "      <td>yes</td>\n",
       "      <td>NaN</td>\n",
       "      <td>NaN</td>\n",
       "      <td>NaN</td>\n",
       "      <td>0</td>\n",
       "      <td>0.0</td>\n",
       "      <td>0</td>\n",
       "    </tr>\n",
       "    <tr>\n",
       "      <td>60200</td>\n",
       "      <td>NaN</td>\n",
       "      <td>NaN</td>\n",
       "      <td>Withheld for privacy</td>\n",
       "      <td>12</td>\n",
       "      <td>78</td>\n",
       "      <td>pt</td>\n",
       "      <td>NaN</td>\n",
       "      <td>NaN</td>\n",
       "      <td>NaN</td>\n",
       "      <td>NaN</td>\n",
       "      <td>NaN</td>\n",
       "      <td>NaN</td>\n",
       "      <td>NaN</td>\n",
       "      <td>NaN</td>\n",
       "      <td>NaN</td>\n",
       "      <td>1</td>\n",
       "      <td>digital_library</td>\n",
       "      <td>academic_publication</td>\n",
       "      <td>17/12/2018 19:07</td>\n",
       "      <td>19</td>\n",
       "      <td>17/12/2018 19:07</td>\n",
       "      <td>2.321520</td>\n",
       "      <td>4.3.1</td>\n",
       "      <td>en</td>\n",
       "      <td>NaN</td>\n",
       "      <td>NaN</td>\n",
       "      <td>NaN</td>\n",
       "      <td>NaN</td>\n",
       "      <td>BR</td>\n",
       "      <td>-200</td>\n",
       "      <td>17/12/2018 16:07</td>\n",
       "      <td>16</td>\n",
       "      <td>7</td>\n",
       "      <td>1</td>\n",
       "      <td>content_based_filtering</td>\n",
       "      <td>standard_QP</td>\n",
       "      <td>yes</td>\n",
       "      <td>no</td>\n",
       "      <td>no</td>\n",
       "      <td>NaN</td>\n",
       "      <td>NaN</td>\n",
       "      <td>NaN</td>\n",
       "      <td>0</td>\n",
       "      <td>0.0</td>\n",
       "      <td>0</td>\n",
       "    </tr>\n",
       "    <tr>\n",
       "      <td>161059</td>\n",
       "      <td>NaN</td>\n",
       "      <td>NaN</td>\n",
       "      <td>Withheld for privacy</td>\n",
       "      <td>12</td>\n",
       "      <td>85</td>\n",
       "      <td>en</td>\n",
       "      <td>NaN</td>\n",
       "      <td>NaN</td>\n",
       "      <td>NaN</td>\n",
       "      <td>NaN</td>\n",
       "      <td>NaN</td>\n",
       "      <td>NaN</td>\n",
       "      <td>NaN</td>\n",
       "      <td>NaN</td>\n",
       "      <td>NaN</td>\n",
       "      <td>1</td>\n",
       "      <td>digital_library</td>\n",
       "      <td>academic_publication</td>\n",
       "      <td>25/03/2019 16:15</td>\n",
       "      <td>16</td>\n",
       "      <td>25/03/2019 16:15</td>\n",
       "      <td>3.036940</td>\n",
       "      <td>4.3.1</td>\n",
       "      <td>en</td>\n",
       "      <td>NaN</td>\n",
       "      <td>NaN</td>\n",
       "      <td>NaN</td>\n",
       "      <td>NaN</td>\n",
       "      <td>DE</td>\n",
       "      <td>100</td>\n",
       "      <td>25/03/2019 16:15</td>\n",
       "      <td>16</td>\n",
       "      <td>7</td>\n",
       "      <td>2</td>\n",
       "      <td>content_based_filtering</td>\n",
       "      <td>edismax_QP</td>\n",
       "      <td>yes</td>\n",
       "      <td>yes</td>\n",
       "      <td>no</td>\n",
       "      <td>NaN</td>\n",
       "      <td>NaN</td>\n",
       "      <td>NaN</td>\n",
       "      <td>0</td>\n",
       "      <td>0.0</td>\n",
       "      <td>0</td>\n",
       "    </tr>\n",
       "    <tr>\n",
       "      <td>63991</td>\n",
       "      <td>NaN</td>\n",
       "      <td>NaN</td>\n",
       "      <td>Withheld for privacy</td>\n",
       "      <td>5</td>\n",
       "      <td>49</td>\n",
       "      <td>en</td>\n",
       "      <td>NaN</td>\n",
       "      <td>NaN</td>\n",
       "      <td>NaN</td>\n",
       "      <td>NaN</td>\n",
       "      <td>NaN</td>\n",
       "      <td>NaN</td>\n",
       "      <td>NaN</td>\n",
       "      <td>NaN</td>\n",
       "      <td>NaN</td>\n",
       "      <td>1</td>\n",
       "      <td>digital_library</td>\n",
       "      <td>academic_publication</td>\n",
       "      <td>21/12/2018 13:40</td>\n",
       "      <td>13</td>\n",
       "      <td>21/12/2018 13:40</td>\n",
       "      <td>0.084040</td>\n",
       "      <td>4.3.1</td>\n",
       "      <td>zh</td>\n",
       "      <td>NaN</td>\n",
       "      <td>NaN</td>\n",
       "      <td>NaN</td>\n",
       "      <td>NaN</td>\n",
       "      <td>CN</td>\n",
       "      <td>800</td>\n",
       "      <td>21/12/2018 20:40</td>\n",
       "      <td>20</td>\n",
       "      <td>7</td>\n",
       "      <td>12</td>\n",
       "      <td>content_based_filtering</td>\n",
       "      <td>edismax_QP</td>\n",
       "      <td>yes</td>\n",
       "      <td>yes</td>\n",
       "      <td>yes</td>\n",
       "      <td>NaN</td>\n",
       "      <td>NaN</td>\n",
       "      <td>NaN</td>\n",
       "      <td>0</td>\n",
       "      <td>0.0</td>\n",
       "      <td>0</td>\n",
       "    </tr>\n",
       "  </tbody>\n",
       "</table>\n",
       "</div>"
      ],
      "text/plain": [
       "                      user_id session_id  \\\n",
       "recommendation_set_id                      \n",
       "82555                     NaN        NaN   \n",
       "271003                    NaN        NaN   \n",
       "60200                     NaN        NaN   \n",
       "161059                    NaN        NaN   \n",
       "63991                     NaN        NaN   \n",
       "\n",
       "                                                        query_identifier  \\\n",
       "recommendation_set_id                                                      \n",
       "82555                                               Withheld for privacy   \n",
       "271003                 Asus Laptop X51L Compatible Power Supply Plug ...   \n",
       "60200                                               Withheld for privacy   \n",
       "161059                                              Withheld for privacy   \n",
       "63991                                               Withheld for privacy   \n",
       "\n",
       "                      query_word_count query_char_count  \\\n",
       "recommendation_set_id                                     \n",
       "82555                               10               62   \n",
       "271003                               9               53   \n",
       "60200                               12               78   \n",
       "161059                              12               85   \n",
       "63991                                5               49   \n",
       "\n",
       "                      query_detected_language query_document_id  \\\n",
       "recommendation_set_id                                             \n",
       "82555                                      en               NaN   \n",
       "271003                                     en               NaN   \n",
       "60200                                      pt               NaN   \n",
       "161059                                     en               NaN   \n",
       "63991                                      en               NaN   \n",
       "\n",
       "                      document_language_provided year_published  \\\n",
       "recommendation_set_id                                             \n",
       "82555                                        NaN            NaN   \n",
       "271003                                       NaN            NaN   \n",
       "60200                                        NaN            NaN   \n",
       "161059                                       NaN            NaN   \n",
       "63991                                        NaN            NaN   \n",
       "\n",
       "                      number_of_authors abstract_word_count  \\\n",
       "recommendation_set_id                                         \n",
       "82555                               NaN                 NaN   \n",
       "271003                              NaN                 NaN   \n",
       "60200                               NaN                 NaN   \n",
       "161059                              NaN                 NaN   \n",
       "63991                               NaN                 NaN   \n",
       "\n",
       "                      abstract_char_count abstract_detected_language  \\\n",
       "recommendation_set_id                                                  \n",
       "82555                                 NaN                        NaN   \n",
       "271003                                NaN                        NaN   \n",
       "60200                                 NaN                        NaN   \n",
       "161059                                NaN                        NaN   \n",
       "63991                                 NaN                        NaN   \n",
       "\n",
       "                      first_author_id num_pubs_by_first_author  \\\n",
       "recommendation_set_id                                            \n",
       "82555                             NaN                      NaN   \n",
       "271003                            NaN                      NaN   \n",
       "60200                             NaN                      NaN   \n",
       "161059                            NaN                      NaN   \n",
       "63991                             NaN                      NaN   \n",
       "\n",
       "                       organization_id application_type             item_type  \\\n",
       "recommendation_set_id                                                           \n",
       "82555                                1  digital_library  academic_publication   \n",
       "271003                               4       e-commerce                   NaN   \n",
       "60200                                1  digital_library  academic_publication   \n",
       "161059                               1  digital_library  academic_publication   \n",
       "63991                                1  digital_library  academic_publication   \n",
       "\n",
       "                       request_received  hour_request_received  \\\n",
       "recommendation_set_id                                            \n",
       "82555                  14/01/2019 11:35                     11   \n",
       "271003                 02/07/2019 08:25                      8   \n",
       "60200                  17/12/2018 19:07                     19   \n",
       "161059                 25/03/2019 16:15                     16   \n",
       "63991                  21/12/2018 13:40                     13   \n",
       "\n",
       "                      response_delivered  rec_processing_time app_version  \\\n",
       "recommendation_set_id                                                       \n",
       "82555                   14/01/2019 11:35             8.529710       4.3.1   \n",
       "271003                  02/07/2019 08:25             0.048823         NaN   \n",
       "60200                   17/12/2018 19:07             2.321520       4.3.1   \n",
       "161059                  25/03/2019 16:15             3.036940       4.3.1   \n",
       "63991                   21/12/2018 13:40             0.084040       4.3.1   \n",
       "\n",
       "                      app_lang user_os user_os_version user_java_version  \\\n",
       "recommendation_set_id                                                      \n",
       "82555                       en     NaN             NaN               NaN   \n",
       "271003                      en     NaN             NaN               NaN   \n",
       "60200                       en     NaN             NaN               NaN   \n",
       "161059                      en     NaN             NaN               NaN   \n",
       "63991                       zh     NaN             NaN               NaN   \n",
       "\n",
       "                      user_timezone country_by_ip timezone_by_ip  \\\n",
       "recommendation_set_id                                              \n",
       "82555                           NaN            FI            200   \n",
       "271003                          NaN            DE            NaN   \n",
       "60200                           NaN            BR           -200   \n",
       "161059                          NaN            DE            100   \n",
       "63991                           NaN            CN            800   \n",
       "\n",
       "                      local_time_of_request local_hour_of_request  \\\n",
       "recommendation_set_id                                               \n",
       "82555                      14/01/2019 12:35                    12   \n",
       "271003                                  NaN                   NaN   \n",
       "60200                      17/12/2018 16:07                    16   \n",
       "161059                     25/03/2019 16:15                    16   \n",
       "63991                      21/12/2018 20:40                    20   \n",
       "\n",
       "                       number_of_recs_in_set recommendation_algorithm_id_used  \\\n",
       "recommendation_set_id                                                           \n",
       "82555                                      7                              NaN   \n",
       "271003                                     3                               12   \n",
       "60200                                      7                                1   \n",
       "161059                                     7                                2   \n",
       "63991                                      7                               12   \n",
       "\n",
       "                               algorithm_class   cbf_parser search_title  \\\n",
       "recommendation_set_id                                                      \n",
       "82555                                      NaN          NaN           no   \n",
       "271003                 content_based_filtering   edismax_QP          yes   \n",
       "60200                  content_based_filtering  standard_QP          yes   \n",
       "161059                 content_based_filtering   edismax_QP          yes   \n",
       "63991                  content_based_filtering   edismax_QP          yes   \n",
       "\n",
       "                      search_keywords search_abstract time_recs_recieved  \\\n",
       "recommendation_set_id                                                      \n",
       "82555                              no              no                NaN   \n",
       "271003                            yes             yes                NaN   \n",
       "60200                              no              no                NaN   \n",
       "161059                            yes              no                NaN   \n",
       "63991                             yes             yes                NaN   \n",
       "\n",
       "                      time_recs_displayed time_recs_viewed  clicks  ctr  \\\n",
       "recommendation_set_id                                                     \n",
       "82555                                 NaN              NaN       0  0.0   \n",
       "271003                                NaN              NaN       0  0.0   \n",
       "60200                                 NaN              NaN       0  0.0   \n",
       "161059                                NaN              NaN       0  0.0   \n",
       "63991                                 NaN              NaN       0  0.0   \n",
       "\n",
       "                       set_clicked  \n",
       "recommendation_set_id               \n",
       "82555                            0  \n",
       "271003                           0  \n",
       "60200                            0  \n",
       "161059                           0  \n",
       "63991                            0  "
      ]
     },
     "execution_count": 29,
     "metadata": {},
     "output_type": "execute_result"
    }
   ],
   "source": [
    "# pd.set_option('display.max_rows', 500)\n",
    "pd.set_option('display.max_columns', 50)\n",
    "trainData.sample(5)"
   ]
  },
  {
   "cell_type": "code",
   "execution_count": null,
   "metadata": {},
   "outputs": [],
   "source": [
    "df[df['Sales'] < s]"
   ]
  },
  {
   "cell_type": "code",
   "execution_count": 24,
   "metadata": {},
   "outputs": [
    {
     "data": {
      "text/plain": [
       "array([nan, nan, 'Withheld for privacy', '6', '35', 'en', nan, nan, nan,\n",
       "       nan, nan, nan, nan, nan, nan, 1, 'digital_library',\n",
       "       'academic_publication', '03/12/2018 16:28', 16, '03/12/2018 16:28',\n",
       "       0.681027, '4.3.1', 'en', nan, nan, nan, nan, 'NL',\n",
       "       'Europe/Amsterdam', nan, nan, 7, '1', 'content_based_filtering',\n",
       "       'standard_QP', 'yes', 'no', 'no', nan, nan, nan, 0, 0.0],\n",
       "      dtype=object)"
      ]
     },
     "execution_count": 24,
     "metadata": {},
     "output_type": "execute_result"
    }
   ],
   "source": [
    "trainData.iloc[:, :-1].values[0]"
   ]
  },
  {
   "cell_type": "code",
   "execution_count": 22,
   "metadata": {},
   "outputs": [
    {
     "data": {
      "text/plain": [
       "(103996, 45)"
      ]
     },
     "execution_count": 22,
     "metadata": {},
     "output_type": "execute_result"
    }
   ],
   "source": [
    "threshold = 0.30\n",
    "\n",
    "#Dropping rows with missing value rate higher than threshold\n",
    "trainData.loc[trainData.isnull().mean(axis=1) < threshold].shape"
   ]
  },
  {
   "cell_type": "code",
   "execution_count": 30,
   "metadata": {},
   "outputs": [
    {
     "data": {
      "text/plain": [
       "Index(['user_id', 'session_id', 'query_identifier', 'query_word_count',\n",
       "       'query_char_count', 'query_detected_language', 'query_document_id',\n",
       "       'document_language_provided', 'year_published', 'number_of_authors',\n",
       "       'abstract_word_count', 'abstract_char_count',\n",
       "       'abstract_detected_language', 'first_author_id',\n",
       "       'num_pubs_by_first_author', 'organization_id', 'application_type',\n",
       "       'item_type', 'request_received', 'hour_request_received',\n",
       "       'response_delivered', 'rec_processing_time', 'app_version', 'app_lang',\n",
       "       'user_os', 'user_os_version', 'user_java_version', 'user_timezone',\n",
       "       'country_by_ip', 'timezone_by_ip', 'local_time_of_request',\n",
       "       'local_hour_of_request', 'number_of_recs_in_set',\n",
       "       'recommendation_algorithm_id_used', 'algorithm_class', 'cbf_parser',\n",
       "       'search_title', 'search_keywords', 'search_abstract',\n",
       "       'time_recs_recieved', 'time_recs_displayed', 'time_recs_viewed',\n",
       "       'clicks', 'ctr', 'set_clicked'],\n",
       "      dtype='object')"
      ]
     },
     "execution_count": 30,
     "metadata": {},
     "output_type": "execute_result"
    }
   ],
   "source": [
    "trainData.columns"
   ]
  },
  {
   "cell_type": "code",
   "execution_count": 42,
   "metadata": {},
   "outputs": [
    {
     "data": {
      "text/plain": [
       "digital_library    5174\n",
       "e-commerce         3027\n",
       "blog                938\n",
       "0                     6\n",
       "Name: application_type, dtype: int64"
      ]
     },
     "execution_count": 42,
     "metadata": {},
     "output_type": "execute_result"
    }
   ],
   "source": [
    "testData[\"application_type\"].value_counts(normalize = False, dropna = False)"
   ]
  },
  {
   "cell_type": "code",
   "execution_count": 47,
   "metadata": {},
   "outputs": [
    {
     "data": {
      "text/html": [
       "<div>\n",
       "<style scoped>\n",
       "    .dataframe tbody tr th:only-of-type {\n",
       "        vertical-align: middle;\n",
       "    }\n",
       "\n",
       "    .dataframe tbody tr th {\n",
       "        vertical-align: top;\n",
       "    }\n",
       "\n",
       "    .dataframe thead th {\n",
       "        text-align: right;\n",
       "    }\n",
       "</style>\n",
       "<table border=\"1\" class=\"dataframe\">\n",
       "  <thead>\n",
       "    <tr style=\"text-align: right;\">\n",
       "      <th></th>\n",
       "      <th>organization_id</th>\n",
       "      <th>hour_request_received</th>\n",
       "      <th>set_clicked</th>\n",
       "    </tr>\n",
       "    <tr>\n",
       "      <th>search_keywords</th>\n",
       "      <th></th>\n",
       "      <th></th>\n",
       "      <th></th>\n",
       "    </tr>\n",
       "  </thead>\n",
       "  <tbody>\n",
       "    <tr>\n",
       "      <td>no</td>\n",
       "      <td>2.747332</td>\n",
       "      <td>12.836220</td>\n",
       "      <td>NaN</td>\n",
       "    </tr>\n",
       "    <tr>\n",
       "      <td>yes</td>\n",
       "      <td>2.656268</td>\n",
       "      <td>12.811953</td>\n",
       "      <td>NaN</td>\n",
       "    </tr>\n",
       "  </tbody>\n",
       "</table>\n",
       "</div>"
      ],
      "text/plain": [
       "                 organization_id  hour_request_received  set_clicked\n",
       "search_keywords                                                     \n",
       "no                      2.747332              12.836220          NaN\n",
       "yes                     2.656268              12.811953          NaN"
      ]
     },
     "execution_count": 47,
     "metadata": {},
     "output_type": "execute_result"
    }
   ],
   "source": [
    "testData.groupby(\"search_keywords\").mean()"
   ]
  },
  {
   "cell_type": "code",
   "execution_count": 38,
   "metadata": {},
   "outputs": [
    {
     "data": {
      "text/plain": [
       "digital_library    270145\n",
       "e-commerce         100070\n",
       "blog                15212\n",
       "0                     260\n",
       "Name: application_type, dtype: int64"
      ]
     },
     "execution_count": 38,
     "metadata": {},
     "output_type": "execute_result"
    }
   ],
   "source": [
    "trainData[\"application_type\"].value_counts(normalize = False, dropna = False)"
   ]
  },
  {
   "cell_type": "code",
   "execution_count": null,
   "metadata": {},
   "outputs": [],
   "source": [
    "# testData[testData['abstract_detected_language'].isnull()]"
   ]
  },
  {
   "cell_type": "code",
   "execution_count": null,
   "metadata": {},
   "outputs": [],
   "source": [
    "testData.isnull().sum().sort_values()"
   ]
  },
  {
   "cell_type": "code",
   "execution_count": null,
   "metadata": {},
   "outputs": [],
   "source": [
    "numeric_columns = [\n",
    "    \"query_word_count\",\n",
    "    \"query_char_count\",\n",
    "    \"query_document_id\",\n",
    "    \"year_published\",\n",
    "    \"number_of_authors\",\n",
    "    \"abstract_char_count\",\n",
    "    \"abstract_word_count\",\n",
    "    \"first_author_id\",\n",
    "    \"num_pubs_by_first_author\",\n",
    "    \"hour_request_received\",\n",
    "    \"local_hour_of_request\",\n",
    "    \"recommendation_algorithm_id_used\",\n",
    "    \"clicks\",\n",
    "]"
   ]
  },
  {
   "cell_type": "code",
   "execution_count": 12,
   "metadata": {},
   "outputs": [],
   "source": [
    "time_columns = [\n",
    "    \"request_received\",\n",
    "    \"response_delivered\",\n",
    "    \"local_time_of_request\",\n",
    "    \"time_recs_recieved\",\n",
    "    \"time_recs_displayed\",\n",
    "    \"time_recs_viewed\",\n",
    "]"
   ]
  },
  {
   "cell_type": "code",
   "execution_count": null,
   "metadata": {},
   "outputs": [],
   "source": [
    "for col in numeric_columns:\n",
    "    trainData[col] = pd.to_numeric(trainData[col], errors=\"coerce\")\n",
    "    testData[col] = pd.to_numeric(testData[col], errors=\"coerce\")"
   ]
  },
  {
   "cell_type": "code",
   "execution_count": 13,
   "metadata": {},
   "outputs": [],
   "source": [
    "for col in time_columns:\n",
    "    trainData[col] = pd.to_datetime(trainData[col], format=\"%d/%m/%Y %H:%M\")\n",
    "    testData[col] = pd.to_datetime(testData[col], format=\"%d/%m/%Y %H:%M\")"
   ]
  },
  {
   "cell_type": "code",
   "execution_count": null,
   "metadata": {},
   "outputs": [],
   "source": [
    "pd.set_option('display.max_columns', 500)\n",
    "pd.set_option('display.max_rows', 5)\n",
    "trainData[\"query_document_id\"].value_counts()"
   ]
  },
  {
   "cell_type": "code",
   "execution_count": null,
   "metadata": {},
   "outputs": [],
   "source": [
    "trainData.columns"
   ]
  },
  {
   "cell_type": "code",
   "execution_count": null,
   "metadata": {},
   "outputs": [],
   "source": [
    "trainData.dtypes"
   ]
  },
  {
   "cell_type": "code",
   "execution_count": 50,
   "metadata": {},
   "outputs": [
    {
     "data": {
      "text/plain": [
       "<matplotlib.axes._subplots.AxesSubplot at 0x11a4c3db3c8>"
      ]
     },
     "execution_count": 50,
     "metadata": {},
     "output_type": "execute_result"
    },
    {
     "data": {
      "image/png": "[encoded data removed]",
      "text/plain": [
       "<Figure size 576x576 with 1 Axes>"
      ]
     },
     "metadata": {},
     "output_type": "display_data"
    }
   ],
   "source": [
    "trainData['set_clicked'].value_counts().plot(kind='pie', figsize=(8,8))"
   ]
  },
  {
   "cell_type": "code",
   "execution_count": 49,
   "metadata": {},
   "outputs": [
    {
     "data": {
      "image/png": "[encoded data removed]",
      "text/plain": [
       "<Figure size 1368x1080 with 2 Axes>"
      ]
     },
     "metadata": {
      "needs_background": "light"
     },
     "output_type": "display_data"
    }
   ],
   "source": [
    "f = plt.figure(figsize=(19, 15))\n",
    "plt.matshow(trainData.corr(), fignum=f.number)\n",
    "plt.xticks(range(trainData.shape[1]), trainData.columns, fontsize=14, rotation=45)\n",
    "plt.yticks(range(trainData.shape[1]), trainData.columns, fontsize=14)\n",
    "cb = plt.colorbar()\n",
    "cb.ax.tick_params(labelsize=14)\n",
    "plt.title('Correlation Matrix', fontsize=16);"
   ]
  },
  {
   "cell_type": "code",
   "execution_count": null,
   "metadata": {},
   "outputs": [],
   "source": []
  }
 ],
 "metadata": {
  "kernelspec": {
   "display_name": "Python 3",
   "language": "python",
   "name": "python3"
  },
  "language_info": {
   "codemirror_mode": {
    "name": "ipython",
    "version": 3
   },
   "file_extension": ".py",
   "mimetype": "text/x-python",
   "name": "python",
   "nbconvert_exporter": "python",
   "pygments_lexer": "ipython3",
   "version": "3.7.4"
  }
 },
 "nbformat": 4,
 "nbformat_minor": 4
}
