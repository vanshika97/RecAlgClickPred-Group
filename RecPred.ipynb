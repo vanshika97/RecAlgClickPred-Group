{
 "cells": [
  {
   "cell_type": "code",
   "execution_count": 1,
   "metadata": {},
   "outputs": [
    {
     "data": {
      "text/plain": [
       "'Python: 3.7.3 (default, Mar 27 2019, 22:11:17) \\n[GCC 7.3.0]'"
      ]
     },
     "execution_count": 1,
     "metadata": {},
     "output_type": "execute_result"
    }
   ],
   "source": [
    "import sys\n",
    "import sklearn\n",
    "import numpy as np\n",
    "import pandas as pd\n",
    "from time import time\n",
    "import seaborn as sns\n",
    "import matplotlib.pyplot as plt\n",
    "from sklearn import linear_model\n",
    "\n",
    "f\"Python: {sys.version}\""
   ]
  },
  {
   "cell_type": "markdown",
   "metadata": {},
   "source": [
    "### Setup"
   ]
  },
  {
   "cell_type": "code",
   "execution_count": 2,
   "metadata": {},
   "outputs": [],
   "source": [
    "# trainData = pd.read_csv(\"tcdml1920-rec-click-pred--training.csv\", index_col='recommendation_set_id', low_memory=False)\n",
    "# testData = pd.read_csv(\"tcdml1920-rec-click-pred--test.csv\", index_col='recommendation_set_id', low_memory=False)\n",
    "\n",
    "trainData = pd.read_csv(\"tcdml1920-rec-click-pred--training.csv\", low_memory=False)\n",
    "testData = pd.read_csv(\"tcdml1920-rec-click-pred--test.csv\", low_memory=False)\n",
    "testData.dropna(how=\"all\", inplace=True)"
   ]
  },
  {
   "cell_type": "code",
   "execution_count": 3,
   "metadata": {},
   "outputs": [
    {
     "data": {
      "text/html": [
       "<div>\n",
       "<style scoped>\n",
       "    .dataframe tbody tr th:only-of-type {\n",
       "        vertical-align: middle;\n",
       "    }\n",
       "\n",
       "    .dataframe tbody tr th {\n",
       "        vertical-align: top;\n",
       "    }\n",
       "\n",
       "    .dataframe thead th {\n",
       "        text-align: right;\n",
       "    }\n",
       "</style>\n",
       "<table border=\"1\" class=\"dataframe\">\n",
       "  <thead>\n",
       "    <tr style=\"text-align: right;\">\n",
       "      <th></th>\n",
       "      <th>recommendation_set_id</th>\n",
       "      <th>user_id</th>\n",
       "      <th>session_id</th>\n",
       "      <th>query_identifier</th>\n",
       "      <th>query_word_count</th>\n",
       "      <th>query_char_count</th>\n",
       "      <th>query_detected_language</th>\n",
       "      <th>query_document_id</th>\n",
       "      <th>document_language_provided</th>\n",
       "      <th>year_published</th>\n",
       "      <th>number_of_authors</th>\n",
       "      <th>abstract_word_count</th>\n",
       "      <th>abstract_char_count</th>\n",
       "      <th>abstract_detected_language</th>\n",
       "      <th>first_author_id</th>\n",
       "      <th>num_pubs_by_first_author</th>\n",
       "      <th>organization_id</th>\n",
       "      <th>application_type</th>\n",
       "      <th>item_type</th>\n",
       "      <th>request_received</th>\n",
       "      <th>hour_request_received</th>\n",
       "      <th>response_delivered</th>\n",
       "      <th>rec_processing_time</th>\n",
       "      <th>app_version</th>\n",
       "      <th>app_lang</th>\n",
       "      <th>user_os</th>\n",
       "      <th>user_os_version</th>\n",
       "      <th>user_java_version</th>\n",
       "      <th>user_timezone</th>\n",
       "      <th>country_by_ip</th>\n",
       "      <th>timezone_by_ip</th>\n",
       "      <th>local_time_of_request</th>\n",
       "      <th>local_hour_of_request</th>\n",
       "      <th>number_of_recs_in_set</th>\n",
       "      <th>recommendation_algorithm_id_used</th>\n",
       "      <th>algorithm_class</th>\n",
       "      <th>cbf_parser</th>\n",
       "      <th>search_title</th>\n",
       "      <th>search_keywords</th>\n",
       "      <th>search_abstract</th>\n",
       "      <th>time_recs_recieved</th>\n",
       "      <th>time_recs_displayed</th>\n",
       "      <th>time_recs_viewed</th>\n",
       "      <th>clicks</th>\n",
       "      <th>ctr</th>\n",
       "      <th>set_clicked</th>\n",
       "    </tr>\n",
       "  </thead>\n",
       "  <tbody>\n",
       "    <tr>\n",
       "      <th>127157</th>\n",
       "      <td>191630</td>\n",
       "      <td>\\N</td>\n",
       "      <td>\\N</td>\n",
       "      <td>Withheld for privacy</td>\n",
       "      <td>13</td>\n",
       "      <td>98</td>\n",
       "      <td>en</td>\n",
       "      <td>103035781</td>\n",
       "      <td>\\N</td>\n",
       "      <td>2017</td>\n",
       "      <td>3</td>\n",
       "      <td>220</td>\n",
       "      <td>1581</td>\n",
       "      <td>en</td>\n",
       "      <td>236082</td>\n",
       "      <td>139</td>\n",
       "      <td>1</td>\n",
       "      <td>digital_library</td>\n",
       "      <td>academic_publication</td>\n",
       "      <td>23/04/2019 15:27</td>\n",
       "      <td>15</td>\n",
       "      <td>23/04/2019 15:28</td>\n",
       "      <td>9.840970</td>\n",
       "      <td>4.3.1</td>\n",
       "      <td>en</td>\n",
       "      <td>\\N</td>\n",
       "      <td>\\N</td>\n",
       "      <td>\\N</td>\n",
       "      <td>\\N</td>\n",
       "      <td>BR</td>\n",
       "      <td>-300</td>\n",
       "      <td>23/04/2019 10:27</td>\n",
       "      <td>10</td>\n",
       "      <td>7</td>\n",
       "      <td>7</td>\n",
       "      <td>content_based_filtering</td>\n",
       "      <td>standard_QP</td>\n",
       "      <td>yes</td>\n",
       "      <td>yes</td>\n",
       "      <td>no</td>\n",
       "      <td>\\N</td>\n",
       "      <td>\\N</td>\n",
       "      <td>\\N</td>\n",
       "      <td>0</td>\n",
       "      <td>0.0</td>\n",
       "      <td>0</td>\n",
       "    </tr>\n",
       "    <tr>\n",
       "      <th>218039</th>\n",
       "      <td>284692</td>\n",
       "      <td>\\N</td>\n",
       "      <td>\\N</td>\n",
       "      <td>Toshiba Laptop Satellite C850-13D Compatible P...</td>\n",
       "      <td>10</td>\n",
       "      <td>70</td>\n",
       "      <td>en</td>\n",
       "      <td>123993130</td>\n",
       "      <td>\\N</td>\n",
       "      <td>\\N</td>\n",
       "      <td>\\N</td>\n",
       "      <td>115</td>\n",
       "      <td>766</td>\n",
       "      <td>en</td>\n",
       "      <td>\\N</td>\n",
       "      <td>\\N</td>\n",
       "      <td>4</td>\n",
       "      <td>e-commerce</td>\n",
       "      <td>Home entertainment</td>\n",
       "      <td>03/07/2019 07:32</td>\n",
       "      <td>7</td>\n",
       "      <td>03/07/2019 07:32</td>\n",
       "      <td>0.056557</td>\n",
       "      <td>\\N</td>\n",
       "      <td>en</td>\n",
       "      <td>\\N</td>\n",
       "      <td>\\N</td>\n",
       "      <td>\\N</td>\n",
       "      <td>\\N</td>\n",
       "      <td>DE</td>\n",
       "      <td>\\N</td>\n",
       "      <td>\\N</td>\n",
       "      <td>\\N</td>\n",
       "      <td>3</td>\n",
       "      <td>11</td>\n",
       "      <td>content_based_filtering</td>\n",
       "      <td>edismax_QP</td>\n",
       "      <td>yes</td>\n",
       "      <td>no</td>\n",
       "      <td>no</td>\n",
       "      <td>\\N</td>\n",
       "      <td>\\N</td>\n",
       "      <td>\\N</td>\n",
       "      <td>0</td>\n",
       "      <td>0.0</td>\n",
       "      <td>0</td>\n",
       "    </tr>\n",
       "    <tr>\n",
       "      <th>100774</th>\n",
       "      <td>161542</td>\n",
       "      <td>\\N</td>\n",
       "      <td>\\N</td>\n",
       "      <td>Withheld for privacy</td>\n",
       "      <td>7</td>\n",
       "      <td>55</td>\n",
       "      <td>en</td>\n",
       "      <td>20161495</td>\n",
       "      <td>\\N</td>\n",
       "      <td>2011</td>\n",
       "      <td>4</td>\n",
       "      <td>103</td>\n",
       "      <td>715</td>\n",
       "      <td>en</td>\n",
       "      <td>6078565</td>\n",
       "      <td>7</td>\n",
       "      <td>1</td>\n",
       "      <td>digital_library</td>\n",
       "      <td>academic_publication</td>\n",
       "      <td>25/03/2019 20:47</td>\n",
       "      <td>20</td>\n",
       "      <td>25/03/2019 20:47</td>\n",
       "      <td>10.853200</td>\n",
       "      <td>4.3.1</td>\n",
       "      <td>en</td>\n",
       "      <td>\\N</td>\n",
       "      <td>\\N</td>\n",
       "      <td>\\N</td>\n",
       "      <td>\\N</td>\n",
       "      <td>BR</td>\n",
       "      <td>-300</td>\n",
       "      <td>25/03/2019 16:47</td>\n",
       "      <td>16</td>\n",
       "      <td>7</td>\n",
       "      <td>7</td>\n",
       "      <td>content_based_filtering</td>\n",
       "      <td>standard_QP</td>\n",
       "      <td>yes</td>\n",
       "      <td>yes</td>\n",
       "      <td>no</td>\n",
       "      <td>\\N</td>\n",
       "      <td>\\N</td>\n",
       "      <td>\\N</td>\n",
       "      <td>0</td>\n",
       "      <td>0.0</td>\n",
       "      <td>0</td>\n",
       "    </tr>\n",
       "    <tr>\n",
       "      <th>336635</th>\n",
       "      <td>407651</td>\n",
       "      <td>\\N</td>\n",
       "      <td>\\N</td>\n",
       "      <td>Withheld for privacy</td>\n",
       "      <td>14</td>\n",
       "      <td>93</td>\n",
       "      <td>en</td>\n",
       "      <td>\\N</td>\n",
       "      <td>\\N</td>\n",
       "      <td>\\N</td>\n",
       "      <td>\\N</td>\n",
       "      <td>\\N</td>\n",
       "      <td>\\N</td>\n",
       "      <td>\\N</td>\n",
       "      <td>\\N</td>\n",
       "      <td>\\N</td>\n",
       "      <td>1</td>\n",
       "      <td>digital_library</td>\n",
       "      <td>academic_publication</td>\n",
       "      <td>11/09/2019 16:38</td>\n",
       "      <td>16</td>\n",
       "      <td>11/09/2019 16:38</td>\n",
       "      <td>13.875100</td>\n",
       "      <td>4.3.1</td>\n",
       "      <td>en</td>\n",
       "      <td>\\N</td>\n",
       "      <td>\\N</td>\n",
       "      <td>\\N</td>\n",
       "      <td>\\N</td>\n",
       "      <td>DK</td>\n",
       "      <td>200</td>\n",
       "      <td>11/09/2019 16:38</td>\n",
       "      <td>16</td>\n",
       "      <td>7</td>\n",
       "      <td>27</td>\n",
       "      <td>sentence_embeddings</td>\n",
       "      <td>\\N</td>\n",
       "      <td>no</td>\n",
       "      <td>no</td>\n",
       "      <td>no</td>\n",
       "      <td>\\N</td>\n",
       "      <td>\\N</td>\n",
       "      <td>\\N</td>\n",
       "      <td>0</td>\n",
       "      <td>0.0</td>\n",
       "      <td>0</td>\n",
       "    </tr>\n",
       "    <tr>\n",
       "      <th>115142</th>\n",
       "      <td>178435</td>\n",
       "      <td>\\N</td>\n",
       "      <td>\\N</td>\n",
       "      <td>Withheld for privacy</td>\n",
       "      <td>1</td>\n",
       "      <td>8</td>\n",
       "      <td>sv</td>\n",
       "      <td>\\N</td>\n",
       "      <td>\\N</td>\n",
       "      <td>\\N</td>\n",
       "      <td>\\N</td>\n",
       "      <td>\\N</td>\n",
       "      <td>\\N</td>\n",
       "      <td>\\N</td>\n",
       "      <td>\\N</td>\n",
       "      <td>\\N</td>\n",
       "      <td>1</td>\n",
       "      <td>digital_library</td>\n",
       "      <td>academic_publication</td>\n",
       "      <td>09/04/2019 22:09</td>\n",
       "      <td>22</td>\n",
       "      <td>09/04/2019 22:09</td>\n",
       "      <td>3.673200</td>\n",
       "      <td>4.3.1</td>\n",
       "      <td>en</td>\n",
       "      <td>\\N</td>\n",
       "      <td>\\N</td>\n",
       "      <td>\\N</td>\n",
       "      <td>\\N</td>\n",
       "      <td>PL</td>\n",
       "      <td>200</td>\n",
       "      <td>09/04/2019 22:09</td>\n",
       "      <td>22</td>\n",
       "      <td>7</td>\n",
       "      <td>8</td>\n",
       "      <td>content_based_filtering</td>\n",
       "      <td>standard_QP</td>\n",
       "      <td>yes</td>\n",
       "      <td>yes</td>\n",
       "      <td>yes</td>\n",
       "      <td>\\N</td>\n",
       "      <td>\\N</td>\n",
       "      <td>\\N</td>\n",
       "      <td>0</td>\n",
       "      <td>0.0</td>\n",
       "      <td>0</td>\n",
       "    </tr>\n",
       "  </tbody>\n",
       "</table>\n",
       "</div>"
      ],
      "text/plain": [
       "        recommendation_set_id user_id session_id  \\\n",
       "127157                 191630      \\N         \\N   \n",
       "218039                 284692      \\N         \\N   \n",
       "100774                 161542      \\N         \\N   \n",
       "336635                 407651      \\N         \\N   \n",
       "115142                 178435      \\N         \\N   \n",
       "\n",
       "                                         query_identifier query_word_count  \\\n",
       "127157                               Withheld for privacy               13   \n",
       "218039  Toshiba Laptop Satellite C850-13D Compatible P...               10   \n",
       "100774                               Withheld for privacy                7   \n",
       "336635                               Withheld for privacy               14   \n",
       "115142                               Withheld for privacy                1   \n",
       "\n",
       "       query_char_count query_detected_language query_document_id  \\\n",
       "127157               98                      en         103035781   \n",
       "218039               70                      en         123993130   \n",
       "100774               55                      en          20161495   \n",
       "336635               93                      en                \\N   \n",
       "115142                8                      sv                \\N   \n",
       "\n",
       "       document_language_provided year_published number_of_authors  \\\n",
       "127157                         \\N           2017                 3   \n",
       "218039                         \\N             \\N                \\N   \n",
       "100774                         \\N           2011                 4   \n",
       "336635                         \\N             \\N                \\N   \n",
       "115142                         \\N             \\N                \\N   \n",
       "\n",
       "       abstract_word_count abstract_char_count abstract_detected_language  \\\n",
       "127157                 220                1581                         en   \n",
       "218039                 115                 766                         en   \n",
       "100774                 103                 715                         en   \n",
       "336635                  \\N                  \\N                         \\N   \n",
       "115142                  \\N                  \\N                         \\N   \n",
       "\n",
       "       first_author_id num_pubs_by_first_author  organization_id  \\\n",
       "127157          236082                      139                1   \n",
       "218039              \\N                       \\N                4   \n",
       "100774         6078565                        7                1   \n",
       "336635              \\N                       \\N                1   \n",
       "115142              \\N                       \\N                1   \n",
       "\n",
       "       application_type             item_type  request_received  \\\n",
       "127157  digital_library  academic_publication  23/04/2019 15:27   \n",
       "218039       e-commerce    Home entertainment  03/07/2019 07:32   \n",
       "100774  digital_library  academic_publication  25/03/2019 20:47   \n",
       "336635  digital_library  academic_publication  11/09/2019 16:38   \n",
       "115142  digital_library  academic_publication  09/04/2019 22:09   \n",
       "\n",
       "        hour_request_received response_delivered  rec_processing_time  \\\n",
       "127157                     15   23/04/2019 15:28             9.840970   \n",
       "218039                      7   03/07/2019 07:32             0.056557   \n",
       "100774                     20   25/03/2019 20:47            10.853200   \n",
       "336635                     16   11/09/2019 16:38            13.875100   \n",
       "115142                     22   09/04/2019 22:09             3.673200   \n",
       "\n",
       "       app_version app_lang user_os user_os_version user_java_version  \\\n",
       "127157       4.3.1       en      \\N              \\N                \\N   \n",
       "218039          \\N       en      \\N              \\N                \\N   \n",
       "100774       4.3.1       en      \\N              \\N                \\N   \n",
       "336635       4.3.1       en      \\N              \\N                \\N   \n",
       "115142       4.3.1       en      \\N              \\N                \\N   \n",
       "\n",
       "       user_timezone country_by_ip timezone_by_ip local_time_of_request  \\\n",
       "127157            \\N            BR           -300      23/04/2019 10:27   \n",
       "218039            \\N            DE             \\N                    \\N   \n",
       "100774            \\N            BR           -300      25/03/2019 16:47   \n",
       "336635            \\N            DK            200      11/09/2019 16:38   \n",
       "115142            \\N            PL            200      09/04/2019 22:09   \n",
       "\n",
       "       local_hour_of_request  number_of_recs_in_set  \\\n",
       "127157                    10                      7   \n",
       "218039                    \\N                      3   \n",
       "100774                    16                      7   \n",
       "336635                    16                      7   \n",
       "115142                    22                      7   \n",
       "\n",
       "       recommendation_algorithm_id_used          algorithm_class   cbf_parser  \\\n",
       "127157                                7  content_based_filtering  standard_QP   \n",
       "218039                               11  content_based_filtering   edismax_QP   \n",
       "100774                                7  content_based_filtering  standard_QP   \n",
       "336635                               27      sentence_embeddings           \\N   \n",
       "115142                                8  content_based_filtering  standard_QP   \n",
       "\n",
       "       search_title search_keywords search_abstract time_recs_recieved  \\\n",
       "127157          yes             yes              no                 \\N   \n",
       "218039          yes              no              no                 \\N   \n",
       "100774          yes             yes              no                 \\N   \n",
       "336635           no              no              no                 \\N   \n",
       "115142          yes             yes             yes                 \\N   \n",
       "\n",
       "       time_recs_displayed time_recs_viewed  clicks  ctr  set_clicked  \n",
       "127157                  \\N               \\N       0  0.0            0  \n",
       "218039                  \\N               \\N       0  0.0            0  \n",
       "100774                  \\N               \\N       0  0.0            0  \n",
       "336635                  \\N               \\N       0  0.0            0  \n",
       "115142                  \\N               \\N       0  0.0            0  "
      ]
     },
     "execution_count": 3,
     "metadata": {},
     "output_type": "execute_result"
    }
   ],
   "source": [
    "pd.set_option('display.max_columns', 50)\n",
    "trainData.sample(5)"
   ]
  },
  {
   "cell_type": "code",
   "execution_count": 4,
   "metadata": {},
   "outputs": [],
   "source": [
    "trainData.replace([\"\\\\N\", \"nA\", \"Not provided\", \"unknown\", \"*unknown*\"], np.nan, inplace=True)\n",
    "testData.replace([\"\\\\N\", \"nA\", \"Not provided\",  \"unknown\", \"*unknown*\"], np.nan, inplace=True)"
   ]
  },
  {
   "cell_type": "code",
   "execution_count": 5,
   "metadata": {},
   "outputs": [],
   "source": [
    "# trainData.isnull().sum().sort_values()"
   ]
  },
  {
   "cell_type": "code",
   "execution_count": 6,
   "metadata": {},
   "outputs": [],
   "source": [
    "numeric_columns = [\n",
    "    \"query_word_count\",\n",
    "    \"query_char_count\",\n",
    "    \"query_document_id\",\n",
    "    \"year_published\",\n",
    "    \"number_of_authors\",\n",
    "    \"abstract_char_count\",\n",
    "    \"abstract_word_count\",\n",
    "    \"first_author_id\",\n",
    "    \"num_pubs_by_first_author\",\n",
    "    \"hour_request_received\",\n",
    "    \"local_hour_of_request\",\n",
    "    \"recommendation_algorithm_id_used\",\n",
    "    \"clicks\",\n",
    "]"
   ]
  },
  {
   "cell_type": "code",
   "execution_count": 7,
   "metadata": {},
   "outputs": [],
   "source": [
    "time_columns = [\n",
    "    \"request_received\",\n",
    "    \"response_delivered\",\n",
    "    \"local_time_of_request\",\n",
    "    \"time_recs_recieved\",\n",
    "    \"time_recs_displayed\",\n",
    "    \"time_recs_viewed\",\n",
    "]"
   ]
  },
  {
   "cell_type": "code",
   "execution_count": 8,
   "metadata": {},
   "outputs": [],
   "source": [
    "for col in numeric_columns:\n",
    "    trainData[col] = pd.to_numeric(trainData[col], errors=\"coerce\")\n",
    "    testData[col] = pd.to_numeric(testData[col], errors=\"coerce\")"
   ]
  },
  {
   "cell_type": "code",
   "execution_count": 9,
   "metadata": {},
   "outputs": [],
   "source": [
    "for col in time_columns:\n",
    "    trainData[col] = pd.to_datetime(trainData[col], format=\"%d/%m/%Y %H:%M\")\n",
    "    testData[col] = pd.to_datetime(testData[col], format=\"%d/%m/%Y %H:%M\")"
   ]
  },
  {
   "cell_type": "code",
   "execution_count": 10,
   "metadata": {},
   "outputs": [
    {
     "data": {
      "text/plain": [
       "124015831.0    2004\n",
       "124015835.0    1589\n",
       "               ... \n",
       "12146053.0        1\n",
       "16778331.0        1\n",
       "Name: query_document_id, Length: 63780, dtype: int64"
      ]
     },
     "execution_count": 10,
     "metadata": {},
     "output_type": "execute_result"
    }
   ],
   "source": [
    "pd.set_option('display.max_columns', 500)\n",
    "pd.set_option('display.max_rows', 5)\n",
    "trainData[\"query_document_id\"].value_counts()"
   ]
  },
  {
   "cell_type": "code",
   "execution_count": 11,
   "metadata": {},
   "outputs": [
    {
     "data": {
      "image/png": "[encoded data removed]",
      "text/plain": [
       "<Figure size 864x648 with 2 Axes>"
      ]
     },
     "metadata": {
      "needs_background": "light"
     },
     "output_type": "display_data"
    }
   ],
   "source": [
    "corrmat = trainData.corr()\n",
    "mask = np.zeros_like(corrmat, dtype=np.bool)\n",
    "mask[np.triu_indices_from(mask)] = True\n",
    "f, ax = plt.subplots(figsize=(12, 9))\n",
    "cmap = sns.diverging_palette(250, 12, as_cmap=True)\n",
    "sns.heatmap(corrmat,mask=mask,cmap=cmap, vmax=1, square=True);"
   ]
  },
  {
   "cell_type": "code",
   "execution_count": 12,
   "metadata": {},
   "outputs": [
    {
     "data": {
      "text/plain": [
       "Index(['recommendation_set_id', 'user_id', 'session_id', 'query_identifier',\n",
       "       'query_word_count', 'query_char_count', 'query_detected_language',\n",
       "       'query_document_id', 'document_language_provided', 'year_published',\n",
       "       'number_of_authors', 'abstract_word_count', 'abstract_char_count',\n",
       "       'abstract_detected_language', 'first_author_id',\n",
       "       'num_pubs_by_first_author', 'organization_id', 'application_type',\n",
       "       'item_type', 'request_received', 'hour_request_received',\n",
       "       'response_delivered', 'rec_processing_time', 'app_version', 'app_lang',\n",
       "       'user_os', 'user_os_version', 'user_java_version', 'user_timezone',\n",
       "       'country_by_ip', 'timezone_by_ip', 'local_time_of_request',\n",
       "       'local_hour_of_request', 'number_of_recs_in_set',\n",
       "       'recommendation_algorithm_id_used', 'algorithm_class', 'cbf_parser',\n",
       "       'search_title', 'search_keywords', 'search_abstract',\n",
       "       'time_recs_recieved', 'time_recs_displayed', 'time_recs_viewed',\n",
       "       'clicks', 'ctr', 'set_clicked'],\n",
       "      dtype='object')"
      ]
     },
     "execution_count": 12,
     "metadata": {},
     "output_type": "execute_result"
    }
   ],
   "source": [
    "trainData.columns"
   ]
  },
  {
   "cell_type": "code",
   "execution_count": 13,
   "metadata": {},
   "outputs": [
    {
     "data": {
      "text/plain": [
       "en    315664\n",
       "de     34999\n",
       "       ...  \n",
       "el         1\n",
       "uk         1\n",
       "Name: query_detected_language, Length: 39, dtype: int64"
      ]
     },
     "execution_count": 13,
     "metadata": {},
     "output_type": "execute_result"
    }
   ],
   "source": [
    "# pd.options.display.float_format = 'describef}'.format\n",
    "trainData[\"query_detected_language\"].value_counts()"
   ]
  },
  {
   "cell_type": "code",
   "execution_count": 14,
   "metadata": {},
   "outputs": [
    {
     "data": {
      "text/plain": [
       "(0, 46)"
      ]
     },
     "execution_count": 14,
     "metadata": {},
     "output_type": "execute_result"
    }
   ],
   "source": [
    "# Row Duplication check TrainData\n",
    "duplicateRowsTrain = trainData[trainData.duplicated()]\n",
    "duplicateRowsTrain.shape"
   ]
  },
  {
   "cell_type": "markdown",
   "metadata": {},
   "source": [
    "285 Duplicated train rows"
   ]
  },
  {
   "cell_type": "code",
   "execution_count": 15,
   "metadata": {},
   "outputs": [
    {
     "data": {
      "text/plain": [
       "(0, 46)"
      ]
     },
     "execution_count": 15,
     "metadata": {},
     "output_type": "execute_result"
    }
   ],
   "source": [
    "# Row Duplication check TestData\n",
    "duplicateRowsTest = testData[testData.duplicated()]\n",
    "duplicateRowsTest.shape"
   ]
  },
  {
   "cell_type": "markdown",
   "metadata": {},
   "source": [
    "### Basic visualizations"
   ]
  },
  {
   "cell_type": "code",
   "execution_count": null,
   "metadata": {},
   "outputs": [],
   "source": [
    "plt.figure(figsize=(24, 4))\n",
    "# sns.countplot(x=\"query_identifier\", data=train_set)\n",
    "# plt.show()\n",
    "sns.countplot(x=\"document_language_provided\", data=train_set)\n",
    "plt.show()\n",
    "plt.figure(figsize=(24, 4))\n",
    "sns.countplot(x=\"abstract_detected_language\", data=train_set)\n",
    "plt.show()\n",
    "sns.countplot(x=\"application_type\", data=train_set)\n",
    "plt.show()\n",
    "plt.figure(figsize=(24, 4))\n",
    "sns.countplot(x=\"item_type\", data=train_set)\n",
    "plt.show()\n",
    "plt.figure(figsize=(24, 4))\n",
    "sns.countplot(x=\"app_version\", data=train_set, order=pd.value_counts(\n",
    "    train_set['app_version']).iloc[:10].index)\n",
    "plt.show()\n",
    "sns.countplot(x=\"app_lang\", data=train_set)\n",
    "plt.show()\n",
    "sns.countplot(x=\"user_os\", data=train_set)\n",
    "plt.show()\n",
    "# sns.countplot(x=\"user_os_version\", data=train_set)\n",
    "# plt.show()\n",
    "# sns.countplot(x=\"user_java_version\", data=train_set)\n",
    "# plt.show()\n",
    "plt.figure(figsize=(24, 4))\n",
    "sns.countplot(x=\"user_timezone\", data=train_set,\n",
    "              order=pd.value_counts(train_set['user_timezone']).index)\n",
    "plt.show()\n",
    "plt.figure(figsize=(24, 4))\n",
    "sns.countplot(x=\"country_by_ip\", data=train_set, order=pd.value_counts(\n",
    "    train_set['country_by_ip']).iloc[:15].index)\n",
    "plt.show()\n",
    "plt.figure(figsize=(24, 4))\n",
    "sns.countplot(x=\"timezone_by_ip\", data=train_set, order=pd.value_counts(\n",
    "    train_set['timezone_by_ip']).iloc[:15].index)\n",
    "plt.show()\n",
    "plt.figure(figsize=(24, 4))\n",
    "sns.countplot(x=\"algorithm_class\", data=train_set)\n",
    "plt.show()"
   ]
  },
  {
   "cell_type": "markdown",
   "metadata": {},
   "source": [
    "### Encoding\n",
    "- One hot\n",
    "- Target"
   ]
  },
  {
   "cell_type": "markdown",
   "metadata": {},
   "source": [
    "- Smote \n",
    "- Giving more weight to yes"
   ]
  },
  {
   "cell_type": "code",
   "execution_count": null,
   "metadata": {},
   "outputs": [],
   "source": []
  }
 ],
 "metadata": {
  "kernelspec": {
   "display_name": "Python 3",
   "language": "python",
   "name": "python3"
  },
  "language_info": {
   "codemirror_mode": {
    "name": "ipython",
    "version": 3
   },
   "file_extension": ".py",
   "mimetype": "text/x-python",
   "name": "python",
   "nbconvert_exporter": "python",
   "pygments_lexer": "ipython3",
   "version": "3.7.3"
  }
 },
 "nbformat": 4,
 "nbformat_minor": 4
}
