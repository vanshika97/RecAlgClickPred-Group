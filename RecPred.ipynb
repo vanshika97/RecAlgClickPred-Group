{
 "cells": [
  {
   "cell_type": "code",
   "execution_count": 1,
   "metadata": {},
   "outputs": [
    {
     "data": {
      "text/plain": [
       "'Python: 3.6.5 |Anaconda, Inc.| (default, Mar 29 2018, 13:32:41) [MSC v.1900 64 bit (AMD64)]'"
      ]
     },
     "execution_count": 1,
     "metadata": {},
     "output_type": "execute_result"
    }
   ],
   "source": [
    "import sys\n",
    "# import sklearn\n",
    "import numpy as np\n",
    "import pandas as pd\n",
    "from time import time\n",
    "import seaborn as sns\n",
    "import matplotlib.pyplot as plt\n",
    "from sklearn import linear_model\n",
    "from copy import deepcopy\n",
    "pd.set_option('display.max_columns', 50)\n",
    "f\"Python: {sys.version}\""
   ]
  },
  {
   "cell_type": "markdown",
   "metadata": {},
   "source": [
    "### Setup"
   ]
  },
  {
   "cell_type": "code",
   "execution_count": 2,
   "metadata": {},
   "outputs": [],
   "source": [
    "trainData = pd.read_csv(\"tcdml1920-rec-click-pred--training.csv\", index_col='recommendation_set_id', low_memory=False)\n",
    "testData = pd.read_csv(\"tcdml1920-rec-click-pred--test.csv\", index_col='recommendation_set_id', low_memory=False)\n",
    "\n",
    "#drops 1647 rows with nothing\n",
    "testData.dropna(how=\"all\", inplace=True)"
   ]
  },
  {
   "cell_type": "code",
   "execution_count": 3,
   "metadata": {},
   "outputs": [
    {
     "data": {
      "text/plain": [
       "(285, 45)"
      ]
     },
     "execution_count": 3,
     "metadata": {},
     "output_type": "execute_result"
    }
   ],
   "source": [
    "# Row Duplication check TrainData\n",
    "duplicateRowsTrain = trainData[trainData.duplicated()]\n",
    "duplicateRowsTrain.shape"
   ]
  },
  {
   "cell_type": "code",
   "execution_count": 4,
   "metadata": {},
   "outputs": [
    {
     "data": {
      "text/plain": [
       "(0, 45)"
      ]
     },
     "execution_count": 4,
     "metadata": {},
     "output_type": "execute_result"
    }
   ],
   "source": [
    "# Row Duplication check TestData\n",
    "duplicateRowsTest = testData[testData.duplicated()]\n",
    "duplicateRowsTest.shape"
   ]
  },
  {
   "cell_type": "code",
   "execution_count": 5,
   "metadata": {},
   "outputs": [
    {
     "data": {
      "text/plain": [
       "(385402, 45)"
      ]
     },
     "execution_count": 5,
     "metadata": {},
     "output_type": "execute_result"
    }
   ],
   "source": [
    "trainData = trainData.drop_duplicates()\n",
    "trainData.shape"
   ]
  },
  {
   "cell_type": "code",
   "execution_count": 6,
   "metadata": {},
   "outputs": [],
   "source": [
    "trainData.replace([\"\\\\N\", \"nA\", \"Not provided\", \"unknown\", \"*unknown*\"], np.nan, inplace=True)\n",
    "testData.replace([\"\\\\N\", \"nA\", \"Not provided\",  \"unknown\", \"*unknown*\"], np.nan, inplace=True)"
   ]
  },
  {
   "cell_type": "code",
   "execution_count": 7,
   "metadata": {},
   "outputs": [],
   "source": [
    "numeric_columns = [\n",
    "    \"query_word_count\",\n",
    "    \"query_char_count\",\n",
    "    \"query_document_id\",\n",
    "    \"year_published\",\n",
    "    \"number_of_authors\",\n",
    "    \"abstract_char_count\",\n",
    "    \"abstract_word_count\",\n",
    "    \"first_author_id\",\n",
    "    \"num_pubs_by_first_author\",\n",
    "    \"hour_request_received\",\n",
    "    \"local_hour_of_request\",\n",
    "    \"recommendation_algorithm_id_used\",\n",
    "    \"clicks\",\n",
    "]"
   ]
  },
  {
   "cell_type": "code",
   "execution_count": 8,
   "metadata": {},
   "outputs": [],
   "source": [
    "time_columns = [\n",
    "    \"request_received\",\n",
    "    \"response_delivered\",\n",
    "    \"local_time_of_request\",\n",
    "    \"time_recs_recieved\",\n",
    "    \"time_recs_displayed\",\n",
    "    \"time_recs_viewed\",\n",
    "]"
   ]
  },
  {
   "cell_type": "code",
   "execution_count": 9,
   "metadata": {},
   "outputs": [],
   "source": [
    "for col in numeric_columns:\n",
    "    trainData[col] = pd.to_numeric(trainData[col], errors=\"coerce\")\n",
    "    testData[col] = pd.to_numeric(testData[col], errors=\"coerce\")"
   ]
  },
  {
   "cell_type": "code",
   "execution_count": 10,
   "metadata": {},
   "outputs": [],
   "source": [
    "for col in time_columns:\n",
    "    trainData[col] = pd.to_datetime(trainData[col], format=\"%d/%m/%Y %H:%M\")\n",
    "    testData[col] = pd.to_datetime(testData[col], format=\"%d/%m/%Y %H:%M\")"
   ]
  },
  {
   "cell_type": "code",
   "execution_count": 11,
   "metadata": {},
   "outputs": [],
   "source": [
    "JabRef_trainData = deepcopy(trainData[trainData.organization_id == 1])\n",
    "JabRef_testData  = deepcopy(testData[testData.organization_id == 1])\n",
    "MyVolts_trainData = deepcopy(trainData[trainData.organization_id == 4])\n",
    "MyVolts_testData  = deepcopy(testData[testData.organization_id == 4])\n",
    "Blog_trainData = deepcopy(trainData[trainData.organization_id == 8])\n",
    "Blog_testData  = deepcopy(testData[testData.organization_id == 8])"
   ]
  },
  {
   "cell_type": "code",
   "execution_count": 12,
   "metadata": {},
   "outputs": [
    {
     "data": {
      "text/plain": [
       "(270037, 45)"
      ]
     },
     "execution_count": 12,
     "metadata": {},
     "output_type": "execute_result"
    }
   ],
   "source": [
    "JabRef_trainData.shape"
   ]
  },
  {
   "cell_type": "code",
   "execution_count": 13,
   "metadata": {},
   "outputs": [
    {
     "data": {
      "text/plain": [
       "(270037, 27)"
      ]
     },
     "execution_count": 13,
     "metadata": {},
     "output_type": "execute_result"
    }
   ],
   "source": [
    "JabRef_dropCols = [0,1,2,4,7,11,15,16,17,18,20,29,30,32,39,40,41,42,43]\n",
    "JabRef_trainData1 = JabRef_trainData.drop(JabRef_trainData.columns[JabRef_dropCols],axis=1)\n",
    "JabRef_testData1 = JabRef_testData.drop(JabRef_testData.columns[JabRef_dropCols],axis=1)\n",
    "JabRef_trainData1.shape"
   ]
  },
  {
   "cell_type": "code",
   "execution_count": 14,
   "metadata": {},
   "outputs": [
    {
     "data": {
      "text/plain": [
       "(100144, 21)"
      ]
     },
     "execution_count": 14,
     "metadata": {},
     "output_type": "execute_result"
    }
   ],
   "source": [
    "MyVolts_dropCols = [4,6,7,9,11,13,14,15,16,18,20,22,23,24,25,26,27,29,30,32,39,40,41,42,43]\n",
    "MyVolts_trainData1 = MyVolts_trainData.drop(MyVolts_trainData.columns[MyVolts_dropCols],axis=1)\n",
    "MyVolts_testData1 = MyVolts_testData.drop(MyVolts_testData.columns[MyVolts_dropCols],axis=1)\n",
    "MyVolts_trainData1.shape"
   ]
  },
  {
   "cell_type": "code",
   "execution_count": 15,
   "metadata": {},
   "outputs": [
    {
     "data": {
      "text/plain": [
       "(15221, 21)"
      ]
     },
     "execution_count": 15,
     "metadata": {},
     "output_type": "execute_result"
    }
   ],
   "source": [
    "Blog_dropCols = [0,1,4,6,7,9,11,13,14,15,16,17,18,20,22,23,24,25,26,27,29,30,32,39,40,41,42,43]\n",
    "Blog_trainData1 = Blog_trainData.drop(Blog_trainData.columns[MyVolts_dropCols],axis=1)\n",
    "Blog_testData1 = Blog_testData.drop(Blog_testData.columns[MyVolts_dropCols],axis=1)\n",
    "Blog_trainData1.shape"
   ]
  },
  {
   "cell_type": "code",
   "execution_count": 16,
   "metadata": {},
   "outputs": [
    {
     "data": {
      "image/png": "[encoded data removed]",
      "text/plain": [
       "<Figure size 1440x576 with 3 Axes>"
      ]
     },
     "metadata": {},
     "output_type": "display_data"
    }
   ],
   "source": [
    "plt.figure(figsize=(20,8))\n",
    "plt.subplot(1, 3, 1)\n",
    "JabRef_trainData['set_clicked'].value_counts().plot(kind='pie')\n",
    "plt.title('JabRef')\n",
    "plt.subplot(1, 3, 2)\n",
    "MyVolts_trainData['set_clicked'].value_counts().plot(kind='pie')\n",
    "plt.title('MyVolts')\n",
    "plt.subplot(1, 3, 3)\n",
    "Blog_trainData['set_clicked'].value_counts().plot(kind='pie')\n",
    "plt.title('Blog')\n",
    "plt.show()"
   ]
  },
  {
   "cell_type": "code",
   "execution_count": 25,
   "metadata": {},
   "outputs": [
    {
     "data": {
      "text/plain": [
       "query_word_count                       0\n",
       "search_keywords                        0\n",
       "search_title                           0\n",
       "search_abstract                        0\n",
       "rec_processing_time                    0\n",
       "response_delivered                     0\n",
       "hour_request_received                  0\n",
       "set_clicked                            0\n",
       "app_version                            9\n",
       "query_detected_language               30\n",
       "app_lang                              38\n",
       "country_by_ip                         42\n",
       "algorithm_class                      278\n",
       "recommendation_algorithm_id_used     278\n",
       "local_hour_of_request                598\n",
       "cbf_parser                          1370\n",
       "query_document_id                   3728\n",
       "year_published                      3849\n",
       "number_of_authors                   3860\n",
       "num_pubs_by_first_author            3955\n",
       "first_author_id                     3955\n",
       "abstract_word_count                 4087\n",
       "abstract_detected_language          4088\n",
       "user_os                             5506\n",
       "user_timezone                       5508\n",
       "user_java_version                   5546\n",
       "user_os_version                     5546\n",
       "dtype: int64"
      ]
     },
     "execution_count": 25,
     "metadata": {},
     "output_type": "execute_result"
    }
   ],
   "source": [
    "JabRef_trainData1[JabRef_trainData1['set_clicked']==1].isnull().sum().sort_values()"
   ]
  },
  {
   "cell_type": "code",
   "execution_count": 24,
   "metadata": {},
   "outputs": [
    {
     "data": {
      "text/plain": [
       "query_word_count                       0\n",
       "search_keywords                        0\n",
       "search_title                           0\n",
       "search_abstract                        0\n",
       "hour_request_received                  0\n",
       "app_version                            4\n",
       "app_lang                              19\n",
       "country_by_ip                         31\n",
       "query_detected_language               51\n",
       "recommendation_algorithm_id_used     229\n",
       "algorithm_class                      231\n",
       "local_hour_of_request                509\n",
       "cbf_parser                          1379\n",
       "query_document_id                   3645\n",
       "year_published                      3737\n",
       "number_of_authors                   3766\n",
       "first_author_id                     3807\n",
       "num_pubs_by_first_author            3807\n",
       "abstract_word_count                 3994\n",
       "abstract_detected_language          3997\n",
       "user_os                             5161\n",
       "user_timezone                       5161\n",
       "user_java_version                   5176\n",
       "rec_processing_time                 5176\n",
       "response_delivered                  5176\n",
       "user_os_version                     5176\n",
       "set_clicked                         5176\n",
       "dtype: int64"
      ]
     },
     "execution_count": 24,
     "metadata": {},
     "output_type": "execute_result"
    }
   ],
   "source": [
    "JabRef_testData1.isnull().sum().sort_values()"
   ]
  },
  {
   "cell_type": "code",
   "execution_count": 28,
   "metadata": {},
   "outputs": [
    {
     "name": "stdout",
     "output_type": "stream",
     "text": [
      "<class 'pandas.core.frame.DataFrame'>\n",
      "Int64Index: 100144 entries, 243679 to 459535\n",
      "Data columns (total 21 columns):\n",
      "user_id                             51818 non-null object\n",
      "session_id                          51818 non-null object\n",
      "query_identifier                    100004 non-null object\n",
      "query_word_count                    100004 non-null float64\n",
      "query_detected_language             100004 non-null object\n",
      "year_published                      0 non-null float64\n",
      "abstract_word_count                 75135 non-null float64\n",
      "abstract_detected_language          75135 non-null object\n",
      "item_type                           64321 non-null object\n",
      "hour_request_received               100144 non-null int64\n",
      "response_delivered                  100144 non-null datetime64[ns]\n",
      "rec_processing_time                 100144 non-null float64\n",
      "country_by_ip                       100018 non-null object\n",
      "local_hour_of_request               40447 non-null float64\n",
      "recommendation_algorithm_id_used    100144 non-null float64\n",
      "algorithm_class                     98660 non-null object\n",
      "cbf_parser                          70804 non-null object\n",
      "search_title                        100144 non-null object\n",
      "search_keywords                     100144 non-null object\n",
      "search_abstract                     100144 non-null object\n",
      "set_clicked                         100144 non-null int64\n",
      "dtypes: datetime64[ns](1), float64(6), int64(2), object(12)\n",
      "memory usage: 16.8+ MB\n"
     ]
    }
   ],
   "source": [
    "num_cols = df.select_dtypes(include=['float64', 'int64']).columns\n",
    "str_cols = df.select_dtypes(include=['object']).columns\n",
    "\n",
    "df.loc[:, num_cols] = df.loc[:, num_cols].fillna(0)\n",
    "df.loc[:, str_cols] = df.loc[:, str_cols].fillna('')"
   ]
  },
  {
   "cell_type": "code",
   "execution_count": 18,
   "metadata": {},
   "outputs": [
    {
     "data": {
      "text/plain": [
       "0    264491\n",
       "1      5546\n",
       "Name: set_clicked, dtype: int64"
      ]
     },
     "execution_count": 18,
     "metadata": {},
     "output_type": "execute_result"
    }
   ],
   "source": [
    "JabRef_trainData1['set_clicked'].value_counts()"
   ]
  },
  {
   "cell_type": "code",
   "execution_count": 19,
   "metadata": {},
   "outputs": [
    {
     "data": {
      "text/plain": [
       "(47224, 27)"
      ]
     },
     "execution_count": 19,
     "metadata": {},
     "output_type": "execute_result"
    }
   ],
   "source": [
    "threshold = 0.22\n",
    "\n",
    "# #Dropping rows with missing value rate higher than threshold\n",
    "# trainData.loc[trainData.isnull().mean(axis=1) < threshold].shape\n",
    "\n",
    "a = JabRef_trainData1[(JabRef_trainData1['set_clicked']==0)]\n",
    "a.loc[a.isnull().mean(axis=1) < threshold].shape\n",
    "# .isnull().sum().sort_values()"
   ]
  },
  {
   "cell_type": "code",
   "execution_count": 20,
   "metadata": {},
   "outputs": [
    {
     "data": {
      "text/html": [
       "<div>\n",
       "<style scoped>\n",
       "    .dataframe tbody tr th:only-of-type {\n",
       "        vertical-align: middle;\n",
       "    }\n",
       "\n",
       "    .dataframe tbody tr th {\n",
       "        vertical-align: top;\n",
       "    }\n",
       "\n",
       "    .dataframe thead th {\n",
       "        text-align: right;\n",
       "    }\n",
       "</style>\n",
       "<table border=\"1\" class=\"dataframe\">\n",
       "  <thead>\n",
       "    <tr style=\"text-align: right;\">\n",
       "      <th></th>\n",
       "      <th>query_word_count</th>\n",
       "      <th>query_detected_language</th>\n",
       "      <th>query_document_id</th>\n",
       "      <th>year_published</th>\n",
       "      <th>number_of_authors</th>\n",
       "      <th>abstract_word_count</th>\n",
       "      <th>abstract_detected_language</th>\n",
       "      <th>first_author_id</th>\n",
       "      <th>num_pubs_by_first_author</th>\n",
       "      <th>hour_request_received</th>\n",
       "      <th>response_delivered</th>\n",
       "      <th>rec_processing_time</th>\n",
       "      <th>app_version</th>\n",
       "      <th>app_lang</th>\n",
       "      <th>user_os</th>\n",
       "      <th>user_os_version</th>\n",
       "      <th>user_java_version</th>\n",
       "      <th>user_timezone</th>\n",
       "      <th>country_by_ip</th>\n",
       "      <th>local_hour_of_request</th>\n",
       "      <th>recommendation_algorithm_id_used</th>\n",
       "      <th>algorithm_class</th>\n",
       "      <th>cbf_parser</th>\n",
       "      <th>search_title</th>\n",
       "      <th>search_keywords</th>\n",
       "      <th>search_abstract</th>\n",
       "      <th>set_clicked</th>\n",
       "    </tr>\n",
       "    <tr>\n",
       "      <th>recommendation_set_id</th>\n",
       "      <th></th>\n",
       "      <th></th>\n",
       "      <th></th>\n",
       "      <th></th>\n",
       "      <th></th>\n",
       "      <th></th>\n",
       "      <th></th>\n",
       "      <th></th>\n",
       "      <th></th>\n",
       "      <th></th>\n",
       "      <th></th>\n",
       "      <th></th>\n",
       "      <th></th>\n",
       "      <th></th>\n",
       "      <th></th>\n",
       "      <th></th>\n",
       "      <th></th>\n",
       "      <th></th>\n",
       "      <th></th>\n",
       "      <th></th>\n",
       "      <th></th>\n",
       "      <th></th>\n",
       "      <th></th>\n",
       "      <th></th>\n",
       "      <th></th>\n",
       "      <th></th>\n",
       "      <th></th>\n",
       "    </tr>\n",
       "  </thead>\n",
       "  <tbody>\n",
       "    <tr>\n",
       "      <th>193585</th>\n",
       "      <td>6.0</td>\n",
       "      <td>it</td>\n",
       "      <td>81471648.0</td>\n",
       "      <td>2017.0</td>\n",
       "      <td>2.0</td>\n",
       "      <td>250.0</td>\n",
       "      <td>en</td>\n",
       "      <td>6913614.0</td>\n",
       "      <td>22.0</td>\n",
       "      <td>10</td>\n",
       "      <td>2019-04-25 10:40:00</td>\n",
       "      <td>0.103812</td>\n",
       "      <td>4.3.1</td>\n",
       "      <td>en</td>\n",
       "      <td>NaN</td>\n",
       "      <td>NaN</td>\n",
       "      <td>NaN</td>\n",
       "      <td>NaN</td>\n",
       "      <td>DE</td>\n",
       "      <td>10.0</td>\n",
       "      <td>22.0</td>\n",
       "      <td>same_author</td>\n",
       "      <td>NaN</td>\n",
       "      <td>no</td>\n",
       "      <td>no</td>\n",
       "      <td>no</td>\n",
       "      <td>0</td>\n",
       "    </tr>\n",
       "    <tr>\n",
       "      <th>158843</th>\n",
       "      <td>2.0</td>\n",
       "      <td>en</td>\n",
       "      <td>21197129.0</td>\n",
       "      <td>1999.0</td>\n",
       "      <td>NaN</td>\n",
       "      <td>19.0</td>\n",
       "      <td>en</td>\n",
       "      <td>NaN</td>\n",
       "      <td>NaN</td>\n",
       "      <td>14</td>\n",
       "      <td>2019-03-23 14:19:00</td>\n",
       "      <td>4.483670</td>\n",
       "      <td>4.3.1</td>\n",
       "      <td>en</td>\n",
       "      <td>NaN</td>\n",
       "      <td>NaN</td>\n",
       "      <td>NaN</td>\n",
       "      <td>NaN</td>\n",
       "      <td>DE</td>\n",
       "      <td>NaN</td>\n",
       "      <td>15.0</td>\n",
       "      <td>content_based_filtering</td>\n",
       "      <td>mlt_QP</td>\n",
       "      <td>yes</td>\n",
       "      <td>no</td>\n",
       "      <td>yes</td>\n",
       "      <td>0</td>\n",
       "    </tr>\n",
       "    <tr>\n",
       "      <th>223762</th>\n",
       "      <td>6.0</td>\n",
       "      <td>en</td>\n",
       "      <td>20568796.0</td>\n",
       "      <td>1961.0</td>\n",
       "      <td>1.0</td>\n",
       "      <td>20.0</td>\n",
       "      <td>en</td>\n",
       "      <td>2542795.0</td>\n",
       "      <td>42.0</td>\n",
       "      <td>17</td>\n",
       "      <td>2019-05-27 17:37:00</td>\n",
       "      <td>5.738740</td>\n",
       "      <td>4.3.1</td>\n",
       "      <td>en</td>\n",
       "      <td>NaN</td>\n",
       "      <td>NaN</td>\n",
       "      <td>NaN</td>\n",
       "      <td>NaN</td>\n",
       "      <td>DE</td>\n",
       "      <td>17.0</td>\n",
       "      <td>1.0</td>\n",
       "      <td>content_based_filtering</td>\n",
       "      <td>standard_QP</td>\n",
       "      <td>yes</td>\n",
       "      <td>no</td>\n",
       "      <td>no</td>\n",
       "      <td>0</td>\n",
       "    </tr>\n",
       "    <tr>\n",
       "      <th>69603</th>\n",
       "      <td>12.0</td>\n",
       "      <td>en</td>\n",
       "      <td>NaN</td>\n",
       "      <td>NaN</td>\n",
       "      <td>NaN</td>\n",
       "      <td>NaN</td>\n",
       "      <td>NaN</td>\n",
       "      <td>NaN</td>\n",
       "      <td>NaN</td>\n",
       "      <td>22</td>\n",
       "      <td>2018-12-30 22:17:00</td>\n",
       "      <td>5.892410</td>\n",
       "      <td>4.3.1</td>\n",
       "      <td>en</td>\n",
       "      <td>NaN</td>\n",
       "      <td>NaN</td>\n",
       "      <td>NaN</td>\n",
       "      <td>NaN</td>\n",
       "      <td>DE</td>\n",
       "      <td>22.0</td>\n",
       "      <td>13.0</td>\n",
       "      <td>content_based_filtering</td>\n",
       "      <td>standard_QP</td>\n",
       "      <td>yes</td>\n",
       "      <td>no</td>\n",
       "      <td>yes</td>\n",
       "      <td>0</td>\n",
       "    </tr>\n",
       "    <tr>\n",
       "      <th>154908</th>\n",
       "      <td>7.0</td>\n",
       "      <td>en</td>\n",
       "      <td>12179177.0</td>\n",
       "      <td>2000.0</td>\n",
       "      <td>1.0</td>\n",
       "      <td>144.0</td>\n",
       "      <td>en</td>\n",
       "      <td>2736505.0</td>\n",
       "      <td>331.0</td>\n",
       "      <td>13</td>\n",
       "      <td>2019-03-20 13:51:00</td>\n",
       "      <td>5.466960</td>\n",
       "      <td>4.3.1</td>\n",
       "      <td>en</td>\n",
       "      <td>NaN</td>\n",
       "      <td>NaN</td>\n",
       "      <td>NaN</td>\n",
       "      <td>NaN</td>\n",
       "      <td>DE</td>\n",
       "      <td>13.0</td>\n",
       "      <td>21.0</td>\n",
       "      <td>sentence_embeddings</td>\n",
       "      <td>NaN</td>\n",
       "      <td>no</td>\n",
       "      <td>no</td>\n",
       "      <td>no</td>\n",
       "      <td>0</td>\n",
       "    </tr>\n",
       "    <tr>\n",
       "      <th>...</th>\n",
       "      <td>...</td>\n",
       "      <td>...</td>\n",
       "      <td>...</td>\n",
       "      <td>...</td>\n",
       "      <td>...</td>\n",
       "      <td>...</td>\n",
       "      <td>...</td>\n",
       "      <td>...</td>\n",
       "      <td>...</td>\n",
       "      <td>...</td>\n",
       "      <td>...</td>\n",
       "      <td>...</td>\n",
       "      <td>...</td>\n",
       "      <td>...</td>\n",
       "      <td>...</td>\n",
       "      <td>...</td>\n",
       "      <td>...</td>\n",
       "      <td>...</td>\n",
       "      <td>...</td>\n",
       "      <td>...</td>\n",
       "      <td>...</td>\n",
       "      <td>...</td>\n",
       "      <td>...</td>\n",
       "      <td>...</td>\n",
       "      <td>...</td>\n",
       "      <td>...</td>\n",
       "      <td>...</td>\n",
       "    </tr>\n",
       "    <tr>\n",
       "      <th>322947</th>\n",
       "      <td>13.0</td>\n",
       "      <td>en</td>\n",
       "      <td>NaN</td>\n",
       "      <td>NaN</td>\n",
       "      <td>NaN</td>\n",
       "      <td>NaN</td>\n",
       "      <td>NaN</td>\n",
       "      <td>NaN</td>\n",
       "      <td>NaN</td>\n",
       "      <td>22</td>\n",
       "      <td>2019-07-13 22:04:00</td>\n",
       "      <td>6.384690</td>\n",
       "      <td>4</td>\n",
       "      <td>de</td>\n",
       "      <td>NaN</td>\n",
       "      <td>NaN</td>\n",
       "      <td>NaN</td>\n",
       "      <td>NaN</td>\n",
       "      <td>DE</td>\n",
       "      <td>22.0</td>\n",
       "      <td>11.0</td>\n",
       "      <td>content_based_filtering</td>\n",
       "      <td>edismax_QP</td>\n",
       "      <td>yes</td>\n",
       "      <td>no</td>\n",
       "      <td>no</td>\n",
       "      <td>0</td>\n",
       "    </tr>\n",
       "    <tr>\n",
       "      <th>260032</th>\n",
       "      <td>7.0</td>\n",
       "      <td>en</td>\n",
       "      <td>NaN</td>\n",
       "      <td>NaN</td>\n",
       "      <td>NaN</td>\n",
       "      <td>NaN</td>\n",
       "      <td>NaN</td>\n",
       "      <td>NaN</td>\n",
       "      <td>NaN</td>\n",
       "      <td>14</td>\n",
       "      <td>2019-06-27 14:45:00</td>\n",
       "      <td>3.053320</td>\n",
       "      <td>4.3.1</td>\n",
       "      <td>en</td>\n",
       "      <td>NaN</td>\n",
       "      <td>NaN</td>\n",
       "      <td>NaN</td>\n",
       "      <td>NaN</td>\n",
       "      <td>GB</td>\n",
       "      <td>13.0</td>\n",
       "      <td>12.0</td>\n",
       "      <td>content_based_filtering</td>\n",
       "      <td>edismax_QP</td>\n",
       "      <td>yes</td>\n",
       "      <td>yes</td>\n",
       "      <td>yes</td>\n",
       "      <td>0</td>\n",
       "    </tr>\n",
       "    <tr>\n",
       "      <th>188502</th>\n",
       "      <td>0.0</td>\n",
       "      <td>NaN</td>\n",
       "      <td>NaN</td>\n",
       "      <td>NaN</td>\n",
       "      <td>NaN</td>\n",
       "      <td>NaN</td>\n",
       "      <td>NaN</td>\n",
       "      <td>NaN</td>\n",
       "      <td>NaN</td>\n",
       "      <td>11</td>\n",
       "      <td>2019-04-19 11:36:00</td>\n",
       "      <td>0.073033</td>\n",
       "      <td>4.3.1</td>\n",
       "      <td>ru</td>\n",
       "      <td>NaN</td>\n",
       "      <td>NaN</td>\n",
       "      <td>NaN</td>\n",
       "      <td>NaN</td>\n",
       "      <td>RU</td>\n",
       "      <td>NaN</td>\n",
       "      <td>14.0</td>\n",
       "      <td>content_based_filtering</td>\n",
       "      <td>edismax_QP</td>\n",
       "      <td>yes</td>\n",
       "      <td>no</td>\n",
       "      <td>yes</td>\n",
       "      <td>0</td>\n",
       "    </tr>\n",
       "    <tr>\n",
       "      <th>308406</th>\n",
       "      <td>2.0</td>\n",
       "      <td>en</td>\n",
       "      <td>18124697.0</td>\n",
       "      <td>2007.0</td>\n",
       "      <td>6.0</td>\n",
       "      <td>75.0</td>\n",
       "      <td>en</td>\n",
       "      <td>4221476.0</td>\n",
       "      <td>337.0</td>\n",
       "      <td>17</td>\n",
       "      <td>2019-07-07 17:53:00</td>\n",
       "      <td>5.620730</td>\n",
       "      <td>4.3.1</td>\n",
       "      <td>en</td>\n",
       "      <td>NaN</td>\n",
       "      <td>NaN</td>\n",
       "      <td>NaN</td>\n",
       "      <td>NaN</td>\n",
       "      <td>US</td>\n",
       "      <td>NaN</td>\n",
       "      <td>12.0</td>\n",
       "      <td>content_based_filtering</td>\n",
       "      <td>edismax_QP</td>\n",
       "      <td>yes</td>\n",
       "      <td>yes</td>\n",
       "      <td>yes</td>\n",
       "      <td>0</td>\n",
       "    </tr>\n",
       "    <tr>\n",
       "      <th>442956</th>\n",
       "      <td>4.0</td>\n",
       "      <td>en</td>\n",
       "      <td>NaN</td>\n",
       "      <td>NaN</td>\n",
       "      <td>NaN</td>\n",
       "      <td>NaN</td>\n",
       "      <td>NaN</td>\n",
       "      <td>NaN</td>\n",
       "      <td>NaN</td>\n",
       "      <td>12</td>\n",
       "      <td>2019-10-03 12:18:00</td>\n",
       "      <td>0.573729</td>\n",
       "      <td>4.3.1</td>\n",
       "      <td>en</td>\n",
       "      <td>NaN</td>\n",
       "      <td>NaN</td>\n",
       "      <td>NaN</td>\n",
       "      <td>NaN</td>\n",
       "      <td>AU</td>\n",
       "      <td>20.0</td>\n",
       "      <td>8.0</td>\n",
       "      <td>content_based_filtering</td>\n",
       "      <td>standard_QP</td>\n",
       "      <td>yes</td>\n",
       "      <td>yes</td>\n",
       "      <td>yes</td>\n",
       "      <td>0</td>\n",
       "    </tr>\n",
       "  </tbody>\n",
       "</table>\n",
       "<p>5546 rows × 27 columns</p>\n",
       "</div>"
      ],
      "text/plain": [
       "                       query_word_count query_detected_language  \\\n",
       "recommendation_set_id                                             \n",
       "193585                              6.0                      it   \n",
       "158843                              2.0                      en   \n",
       "223762                              6.0                      en   \n",
       "69603                              12.0                      en   \n",
       "154908                              7.0                      en   \n",
       "...                                 ...                     ...   \n",
       "322947                             13.0                      en   \n",
       "260032                              7.0                      en   \n",
       "188502                              0.0                     NaN   \n",
       "308406                              2.0                      en   \n",
       "442956                              4.0                      en   \n",
       "\n",
       "                       query_document_id  year_published  number_of_authors  \\\n",
       "recommendation_set_id                                                         \n",
       "193585                        81471648.0          2017.0                2.0   \n",
       "158843                        21197129.0          1999.0                NaN   \n",
       "223762                        20568796.0          1961.0                1.0   \n",
       "69603                                NaN             NaN                NaN   \n",
       "154908                        12179177.0          2000.0                1.0   \n",
       "...                                  ...             ...                ...   \n",
       "322947                               NaN             NaN                NaN   \n",
       "260032                               NaN             NaN                NaN   \n",
       "188502                               NaN             NaN                NaN   \n",
       "308406                        18124697.0          2007.0                6.0   \n",
       "442956                               NaN             NaN                NaN   \n",
       "\n",
       "                       abstract_word_count abstract_detected_language  \\\n",
       "recommendation_set_id                                                   \n",
       "193585                               250.0                         en   \n",
       "158843                                19.0                         en   \n",
       "223762                                20.0                         en   \n",
       "69603                                  NaN                        NaN   \n",
       "154908                               144.0                         en   \n",
       "...                                    ...                        ...   \n",
       "322947                                 NaN                        NaN   \n",
       "260032                                 NaN                        NaN   \n",
       "188502                                 NaN                        NaN   \n",
       "308406                                75.0                         en   \n",
       "442956                                 NaN                        NaN   \n",
       "\n",
       "                       first_author_id  num_pubs_by_first_author  \\\n",
       "recommendation_set_id                                              \n",
       "193585                       6913614.0                      22.0   \n",
       "158843                             NaN                       NaN   \n",
       "223762                       2542795.0                      42.0   \n",
       "69603                              NaN                       NaN   \n",
       "154908                       2736505.0                     331.0   \n",
       "...                                ...                       ...   \n",
       "322947                             NaN                       NaN   \n",
       "260032                             NaN                       NaN   \n",
       "188502                             NaN                       NaN   \n",
       "308406                       4221476.0                     337.0   \n",
       "442956                             NaN                       NaN   \n",
       "\n",
       "                       hour_request_received  response_delivered  \\\n",
       "recommendation_set_id                                              \n",
       "193585                                    10 2019-04-25 10:40:00   \n",
       "158843                                    14 2019-03-23 14:19:00   \n",
       "223762                                    17 2019-05-27 17:37:00   \n",
       "69603                                     22 2018-12-30 22:17:00   \n",
       "154908                                    13 2019-03-20 13:51:00   \n",
       "...                                      ...                 ...   \n",
       "322947                                    22 2019-07-13 22:04:00   \n",
       "260032                                    14 2019-06-27 14:45:00   \n",
       "188502                                    11 2019-04-19 11:36:00   \n",
       "308406                                    17 2019-07-07 17:53:00   \n",
       "442956                                    12 2019-10-03 12:18:00   \n",
       "\n",
       "                       rec_processing_time app_version app_lang user_os  \\\n",
       "recommendation_set_id                                                     \n",
       "193585                            0.103812       4.3.1       en     NaN   \n",
       "158843                            4.483670       4.3.1       en     NaN   \n",
       "223762                            5.738740       4.3.1       en     NaN   \n",
       "69603                             5.892410       4.3.1       en     NaN   \n",
       "154908                            5.466960       4.3.1       en     NaN   \n",
       "...                                    ...         ...      ...     ...   \n",
       "322947                            6.384690           4       de     NaN   \n",
       "260032                            3.053320       4.3.1       en     NaN   \n",
       "188502                            0.073033       4.3.1       ru     NaN   \n",
       "308406                            5.620730       4.3.1       en     NaN   \n",
       "442956                            0.573729       4.3.1       en     NaN   \n",
       "\n",
       "                      user_os_version user_java_version user_timezone  \\\n",
       "recommendation_set_id                                                   \n",
       "193585                            NaN               NaN           NaN   \n",
       "158843                            NaN               NaN           NaN   \n",
       "223762                            NaN               NaN           NaN   \n",
       "69603                             NaN               NaN           NaN   \n",
       "154908                            NaN               NaN           NaN   \n",
       "...                               ...               ...           ...   \n",
       "322947                            NaN               NaN           NaN   \n",
       "260032                            NaN               NaN           NaN   \n",
       "188502                            NaN               NaN           NaN   \n",
       "308406                            NaN               NaN           NaN   \n",
       "442956                            NaN               NaN           NaN   \n",
       "\n",
       "                      country_by_ip  local_hour_of_request  \\\n",
       "recommendation_set_id                                        \n",
       "193585                           DE                   10.0   \n",
       "158843                           DE                    NaN   \n",
       "223762                           DE                   17.0   \n",
       "69603                            DE                   22.0   \n",
       "154908                           DE                   13.0   \n",
       "...                             ...                    ...   \n",
       "322947                           DE                   22.0   \n",
       "260032                           GB                   13.0   \n",
       "188502                           RU                    NaN   \n",
       "308406                           US                    NaN   \n",
       "442956                           AU                   20.0   \n",
       "\n",
       "                       recommendation_algorithm_id_used  \\\n",
       "recommendation_set_id                                     \n",
       "193585                                             22.0   \n",
       "158843                                             15.0   \n",
       "223762                                              1.0   \n",
       "69603                                              13.0   \n",
       "154908                                             21.0   \n",
       "...                                                 ...   \n",
       "322947                                             11.0   \n",
       "260032                                             12.0   \n",
       "188502                                             14.0   \n",
       "308406                                             12.0   \n",
       "442956                                              8.0   \n",
       "\n",
       "                               algorithm_class   cbf_parser search_title  \\\n",
       "recommendation_set_id                                                      \n",
       "193585                             same_author          NaN           no   \n",
       "158843                 content_based_filtering       mlt_QP          yes   \n",
       "223762                 content_based_filtering  standard_QP          yes   \n",
       "69603                  content_based_filtering  standard_QP          yes   \n",
       "154908                     sentence_embeddings          NaN           no   \n",
       "...                                        ...          ...          ...   \n",
       "322947                 content_based_filtering   edismax_QP          yes   \n",
       "260032                 content_based_filtering   edismax_QP          yes   \n",
       "188502                 content_based_filtering   edismax_QP          yes   \n",
       "308406                 content_based_filtering   edismax_QP          yes   \n",
       "442956                 content_based_filtering  standard_QP          yes   \n",
       "\n",
       "                      search_keywords search_abstract  set_clicked  \n",
       "recommendation_set_id                                               \n",
       "193585                             no              no            0  \n",
       "158843                             no             yes            0  \n",
       "223762                             no              no            0  \n",
       "69603                              no             yes            0  \n",
       "154908                             no              no            0  \n",
       "...                               ...             ...          ...  \n",
       "322947                             no              no            0  \n",
       "260032                            yes             yes            0  \n",
       "188502                             no             yes            0  \n",
       "308406                            yes             yes            0  \n",
       "442956                            yes             yes            0  \n",
       "\n",
       "[5546 rows x 27 columns]"
      ]
     },
     "execution_count": 20,
     "metadata": {},
     "output_type": "execute_result"
    }
   ],
   "source": [
    "a.sample(5546)"
   ]
  },
  {
   "cell_type": "code",
   "execution_count": null,
   "metadata": {},
   "outputs": [],
   "source": []
  }
 ],
 "metadata": {
  "kernelspec": {
   "display_name": "Python 3",
   "language": "python",
   "name": "python3"
  },
  "language_info": {
   "codemirror_mode": {
    "name": "ipython",
    "version": 3
   },
   "file_extension": ".py",
   "mimetype": "text/x-python",
   "name": "python",
   "nbconvert_exporter": "python",
   "pygments_lexer": "ipython3",
   "version": "3.6.5"
  }
 },
 "nbformat": 4,
 "nbformat_minor": 4
}
