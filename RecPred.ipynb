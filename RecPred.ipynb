{
 "cells": [
  {
   "cell_type": "code",
   "execution_count": 1,
   "metadata": {},
   "outputs": [
    {
     "data": {
      "text/plain": [
       "'Python: 3.7.3 (default, Mar 27 2019, 22:11:17) \\n[GCC 7.3.0]'"
      ]
     },
     "execution_count": 1,
     "metadata": {},
     "output_type": "execute_result"
    }
   ],
   "source": [
    "import sys\n",
    "import sklearn\n",
    "import numpy as np\n",
    "import pandas as pd\n",
    "from time import time\n",
    "import seaborn as sns\n",
    "import matplotlib.pyplot as plt\n",
    "from sklearn import linear_model\n",
    "\n",
    "f\"Python: {sys.version}\""
   ]
  },
  {
   "cell_type": "markdown",
   "metadata": {},
   "source": [
    "### Setup"
   ]
  },
  {
   "cell_type": "code",
   "execution_count": 2,
   "metadata": {},
   "outputs": [],
   "source": [
    "trainData = pd.read_csv(\"tcdml1920-rec-click-pred--training.csv\", index_col='recommendation_set_id', low_memory=False)\n",
    "testData = pd.read_csv(\"tcdml1920-rec-click-pred--test.csv\", index_col='recommendation_set_id', low_memory=False)\n",
    "\n",
    "testData.dropna(how=\"all\", inplace=True)"
   ]
  },
  {
   "cell_type": "code",
   "execution_count": 4,
   "metadata": {},
   "outputs": [],
   "source": [
    "trainData.replace([\"\\\\N\", \"nA\", \"Not provided\", \"unknown\", \"*unknown*\"], np.nan, inplace=True)\n",
    "testData.replace([\"\\\\N\", \"nA\", \"Not provided\",  \"unknown\", \"*unknown*\"], np.nan, inplace=True)"
   ]
  },
  {
   "cell_type": "code",
   "execution_count": 5,
   "metadata": {},
   "outputs": [
    {
     "data": {
      "text/plain": [
       "set_clicked                              0\n",
       "ctr                                      0\n",
       "rec_processing_time                      0\n",
       "response_delivered                       0\n",
       "hour_request_received                    0\n",
       "request_received                         0\n",
       "application_type                         0\n",
       "organization_id                          0\n",
       "number_of_recs_in_set                    0\n",
       "clicks                                   0\n",
       "search_keywords                          0\n",
       "search_abstract                          0\n",
       "search_title                             0\n",
       "query_identifier                       154\n",
       "query_char_count                       154\n",
       "query_word_count                       154\n",
       "country_by_ip                         1584\n",
       "query_detected_language               3597\n",
       "recommendation_algorithm_id_used     10677\n",
       "algorithm_class                      13026\n",
       "app_lang                             16697\n",
       "item_type                            36223\n",
       "timezone_by_ip                       76209\n",
       "local_hour_of_request                85059\n",
       "local_time_of_request                85059\n",
       "cbf_parser                          110616\n",
       "app_version                         115903\n",
       "query_document_id                   220470\n",
       "abstract_char_count                 238869\n",
       "abstract_word_count                 238869\n",
       "abstract_detected_language          238947\n",
       "year_published                      315710\n",
       "number_of_authors                   316412\n",
       "num_pubs_by_first_author            319231\n",
       "first_author_id                     319231\n",
       "time_recs_recieved                  330975\n",
       "time_recs_displayed                 331317\n",
       "session_id                          333849\n",
       "user_id                             333849\n",
       "time_recs_viewed                    372540\n",
       "document_language_provided          381260\n",
       "user_os                             385414\n",
       "user_timezone                       385439\n",
       "user_os_version                     385674\n",
       "user_java_version                   385680\n",
       "dtype: int64"
      ]
     },
     "execution_count": 5,
     "metadata": {},
     "output_type": "execute_result"
    }
   ],
   "source": [
    "trainData.isnull().sum().sort_values()"
   ]
  },
  {
   "cell_type": "code",
   "execution_count": null,
   "metadata": {},
   "outputs": [],
   "source": [
    "numeric_columns = [\n",
    "    \"query_word_count\",\n",
    "    \"query_char_count\",\n",
    "    \"query_document_id\",\n",
    "    \"year_published\",\n",
    "    \"number_of_authors\",\n",
    "    \"abstract_char_count\",\n",
    "    \"abstract_word_count\",\n",
    "    \"first_author_id\",\n",
    "    \"num_pubs_by_first_author\",\n",
    "    \"hour_request_received\",\n",
    "    \"local_hour_of_request\",\n",
    "    \"recommendation_algorithm_id_used\",\n",
    "    \"clicks\",\n",
    "]"
   ]
  },
  {
   "cell_type": "code",
   "execution_count": null,
   "metadata": {},
   "outputs": [],
   "source": [
    "time_columns = [\n",
    "    \"request_received\",\n",
    "    \"response_delivered\",\n",
    "    \"local_time_of_request\",\n",
    "    \"time_recs_recieved\",\n",
    "    \"time_recs_displayed\",\n",
    "    \"time_recs_viewed\",\n",
    "]"
   ]
  },
  {
   "cell_type": "code",
   "execution_count": null,
   "metadata": {},
   "outputs": [],
   "source": [
    "for col in numeric_columns:\n",
    "    trainData[col] = pd.to_numeric(trainData[col], errors=\"coerce\")\n",
    "    testData[col] = pd.to_numeric(testData[col], errors=\"coerce\")"
   ]
  },
  {
   "cell_type": "code",
   "execution_count": null,
   "metadata": {},
   "outputs": [],
   "source": [
    "for col in time_columns:\n",
    "    trainData[col] = pd.to_datetime(trainData[col], format=\"%d/%m/%Y %H:%M\")\n",
    "    testData[col] = pd.to_datetime(testData[col], format=\"%d/%m/%Y %H:%M\")"
   ]
  },
  {
   "cell_type": "code",
   "execution_count": null,
   "metadata": {},
   "outputs": [],
   "source": [
    "pd.set_option('display.max_columns', 500)\n",
    "pd.set_option('display.max_rows', 5)\n",
    "trainData[\"query_document_id\"].value_counts()"
   ]
  },
  {
   "cell_type": "code",
   "execution_count": null,
   "metadata": {},
   "outputs": [],
   "source": [
    "trainData.columns"
   ]
  },
  {
   "cell_type": "code",
   "execution_count": null,
   "metadata": {},
   "outputs": [],
   "source": [
    "trainData.dtypes"
   ]
  },
  {
   "cell_type": "code",
   "execution_count": null,
   "metadata": {},
   "outputs": [],
   "source": [
    "trainData['set_clicked'].value_counts().plot(kind='pie', figsize=(8,8))"
   ]
  },
  {
   "cell_type": "code",
   "execution_count": null,
   "metadata": {},
   "outputs": [],
   "source": [
    "trainData.corr().style.background_gradient(cmap='coolwarm', axis=None)"
   ]
  },
  {
   "cell_type": "code",
   "execution_count": null,
   "metadata": {},
   "outputs": [],
   "source": [
    "f = plt.figure(figsize=(19, 15))\n",
    "plt.matshow(trainData.corr(), fignum=f.number)\n",
    "plt.xticks(range(trainData.shape[1]), trainData.columns, fontsize=14, rotation=45)\n",
    "plt.yticks(range(trainData.shape[1]), trainData.columns, fontsize=14)\n",
    "cb = plt.colorbar()\n",
    "cb.ax.tick_params(labelsize=14)\n",
    "plt.title('Correlation Matrix', fontsize=16);"
   ]
  },
  {
   "cell_type": "code",
   "execution_count": null,
   "metadata": {},
   "outputs": [],
   "source": [
    "# Row Duplication check TrainData\n",
    "duplicateRowsTrain = trainData[trainData.duplicated()]\n",
    "duplicateRowsTrain.shape"
   ]
  },
  {
   "cell_type": "markdown",
   "metadata": {},
   "source": [
    "285 Duplicated train rows"
   ]
  },
  {
   "cell_type": "code",
   "execution_count": null,
   "metadata": {},
   "outputs": [],
   "source": [
    "# Row Duplication check TestData\n",
    "duplicateRowsTest = testData[testData.duplicated()]\n",
    "duplicateRowsTest.shape"
   ]
  },
  {
   "cell_type": "markdown",
   "metadata": {},
   "source": [
    "### Basic visualizations"
   ]
  },
  {
   "cell_type": "code",
   "execution_count": null,
   "metadata": {},
   "outputs": [],
   "source": [
    "plt.figure(figsize=(24, 4))\n",
    "# sns.countplot(x=\"query_identifier\", data=train_set)\n",
    "# plt.show()\n",
    "sns.countplot(x=\"document_language_provided\", data=train_set)\n",
    "plt.show()\n",
    "plt.figure(figsize=(24, 4))\n",
    "sns.countplot(x=\"abstract_detected_language\", data=train_set)\n",
    "plt.show()\n",
    "sns.countplot(x=\"application_type\", data=train_set)\n",
    "plt.show()\n",
    "plt.figure(figsize=(24, 4))\n",
    "sns.countplot(x=\"item_type\", data=train_set)\n",
    "plt.show()\n",
    "plt.figure(figsize=(24, 4))\n",
    "sns.countplot(x=\"app_version\", data=train_set, order=pd.value_counts(\n",
    "    train_set['app_version']).iloc[:10].index)\n",
    "plt.show()\n",
    "sns.countplot(x=\"app_lang\", data=train_set)\n",
    "plt.show()\n",
    "sns.countplot(x=\"user_os\", data=train_set)\n",
    "plt.show()\n",
    "# sns.countplot(x=\"user_os_version\", data=train_set)\n",
    "# plt.show()\n",
    "# sns.countplot(x=\"user_java_version\", data=train_set)\n",
    "# plt.show()\n",
    "plt.figure(figsize=(24, 4))\n",
    "sns.countplot(x=\"user_timezone\", data=train_set,\n",
    "              order=pd.value_counts(train_set['user_timezone']).index)\n",
    "plt.show()\n",
    "plt.figure(figsize=(24, 4))\n",
    "sns.countplot(x=\"country_by_ip\", data=train_set, order=pd.value_counts(\n",
    "    train_set['country_by_ip']).iloc[:15].index)\n",
    "plt.show()\n",
    "plt.figure(figsize=(24, 4))\n",
    "sns.countplot(x=\"timezone_by_ip\", data=train_set, order=pd.value_counts(\n",
    "    train_set['timezone_by_ip']).iloc[:15].index)\n",
    "plt.show()\n",
    "plt.figure(figsize=(24, 4))\n",
    "sns.countplot(x=\"algorithm_class\", data=train_set)\n",
    "plt.show()"
   ]
  },
  {
   "cell_type": "markdown",
   "metadata": {},
   "source": [
    "### Encoding\n",
    "- One hot\n",
    "- Target"
   ]
  },
  {
   "cell_type": "markdown",
   "metadata": {},
   "source": [
    "- Smote \n",
    "- Giving more weight to yes"
   ]
  },
  {
   "cell_type": "code",
   "execution_count": null,
   "metadata": {},
   "outputs": [],
   "source": []
  }
 ],
 "metadata": {
  "kernelspec": {
   "display_name": "Python 3",
   "language": "python",
   "name": "python3"
  },
  "language_info": {
   "codemirror_mode": {
    "name": "ipython",
    "version": 3
   },
   "file_extension": ".py",
   "mimetype": "text/x-python",
   "name": "python",
   "nbconvert_exporter": "python",
   "pygments_lexer": "ipython3",
   "version": "3.7.3"
  }
 },
 "nbformat": 4,
 "nbformat_minor": 4
}
